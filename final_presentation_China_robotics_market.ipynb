{
 "cells": [
  {
   "cell_type": "code",
   "execution_count": 3,
   "metadata": {},
   "outputs": [],
   "source": [
    "# Importing all the libraries I am using\n",
    "import numpy as np\n",
    "import pandas as pd\n",
    "import os #We import os in order to change/specify our working directory.\n",
    "import plotly.express as px #interractive boxplot\n",
    "import matplotlib.pyplot as plt \n",
    "import seaborn as sb # visualization extension\n",
    "#import bokeh.io # for more visual demonstration\n",
    "#import bokeh.models #for more visual demonstration\n",
    "#import bokeh.plotting #for more visual demonstration\n"
   ]
  },
  {
   "cell_type": "code",
   "execution_count": 4,
   "metadata": {},
   "outputs": [
    {
     "data": {
      "text/plain": [
       "'C:\\\\Users\\\\Charlotte Ahrens\\\\Documents\\\\Documents\\\\GitHub\\\\class_robotics'"
      ]
     },
     "execution_count": 4,
     "metadata": {},
     "output_type": "execute_result"
    }
   ],
   "source": [
    "os.getcwd()"
   ]
  },
  {
   "cell_type": "code",
   "execution_count": 56,
   "metadata": {},
   "outputs": [],
   "source": [
    "os.chdir(r\"C:\\Users\\Charlotte Ahrens\\Documents\\Documents\\GitHub\\class_robotics\")"
   ]
  },
  {
   "cell_type": "code",
   "execution_count": 57,
   "metadata": {},
   "outputs": [
    {
     "data": {
      "text/plain": [
       "pandas.core.frame.DataFrame"
      ]
     },
     "execution_count": 57,
     "metadata": {},
     "output_type": "execute_result"
    }
   ],
   "source": [
    "url = r\"C:\\Users\\Charlotte Ahrens\\Documents\\Documents\\GitHub\\class_robotics\\China_robotics_data.csv\"\n",
    "data = pd.read_csv(url)\n",
    "type(data)"
   ]
  },
  {
   "cell_type": "code",
   "execution_count": 58,
   "metadata": {},
   "outputs": [
    {
     "data": {
      "text/html": [
       "<div>\n",
       "<style scoped>\n",
       "    .dataframe tbody tr th:only-of-type {\n",
       "        vertical-align: middle;\n",
       "    }\n",
       "\n",
       "    .dataframe tbody tr th {\n",
       "        vertical-align: top;\n",
       "    }\n",
       "\n",
       "    .dataframe thead th {\n",
       "        text-align: right;\n",
       "    }\n",
       "</style>\n",
       "<table border=\"1\" class=\"dataframe\">\n",
       "  <thead>\n",
       "    <tr style=\"text-align: right;\">\n",
       "      <th></th>\n",
       "      <th>Period</th>\n",
       "      <th>Trade Flow</th>\n",
       "      <th>Reporter</th>\n",
       "      <th>Partner</th>\n",
       "      <th>2nd Partner</th>\n",
       "      <th>Customs Desc</th>\n",
       "      <th>Transport Mode</th>\n",
       "      <th>Commodity Code</th>\n",
       "      <th>Trade Value</th>\n",
       "      <th>Net Weight(kg)</th>\n",
       "      <th>Gross Weight</th>\n",
       "      <th>Qty Unit</th>\n",
       "      <th>Qty</th>\n",
       "      <th>Alternate Quantity unit</th>\n",
       "      <th>Alternate Quantity</th>\n",
       "    </tr>\n",
       "  </thead>\n",
       "  <tbody>\n",
       "    <tr>\n",
       "      <th>0</th>\n",
       "      <td>2004</td>\n",
       "      <td>M</td>\n",
       "      <td>European Union</td>\n",
       "      <td>World</td>\n",
       "      <td>World</td>\n",
       "      <td>TOTAL CPC</td>\n",
       "      <td>TOTAL MOT</td>\n",
       "      <td>850131</td>\n",
       "      <td>464236771</td>\n",
       "      <td>25556300.0</td>\n",
       "      <td>NaN</td>\n",
       "      <td>u</td>\n",
       "      <td>99401701.0</td>\n",
       "      <td>NaN</td>\n",
       "      <td>NaN</td>\n",
       "    </tr>\n",
       "    <tr>\n",
       "      <th>1</th>\n",
       "      <td>2004</td>\n",
       "      <td>X</td>\n",
       "      <td>European Union</td>\n",
       "      <td>World</td>\n",
       "      <td>World</td>\n",
       "      <td>TOTAL CPC</td>\n",
       "      <td>TOTAL MOT</td>\n",
       "      <td>850131</td>\n",
       "      <td>376072131</td>\n",
       "      <td>17238312.0</td>\n",
       "      <td>NaN</td>\n",
       "      <td>u</td>\n",
       "      <td>15528260.0</td>\n",
       "      <td>NaN</td>\n",
       "      <td>NaN</td>\n",
       "    </tr>\n",
       "    <tr>\n",
       "      <th>2</th>\n",
       "      <td>2004</td>\n",
       "      <td>M</td>\n",
       "      <td>European Union</td>\n",
       "      <td>China</td>\n",
       "      <td>World</td>\n",
       "      <td>TOTAL CPC</td>\n",
       "      <td>TOTAL MOT</td>\n",
       "      <td>850131</td>\n",
       "      <td>128609541</td>\n",
       "      <td>12554300.0</td>\n",
       "      <td>NaN</td>\n",
       "      <td>u</td>\n",
       "      <td>84372230.0</td>\n",
       "      <td>NaN</td>\n",
       "      <td>NaN</td>\n",
       "    </tr>\n",
       "    <tr>\n",
       "      <th>3</th>\n",
       "      <td>2004</td>\n",
       "      <td>X</td>\n",
       "      <td>European Union</td>\n",
       "      <td>China</td>\n",
       "      <td>World</td>\n",
       "      <td>TOTAL CPC</td>\n",
       "      <td>TOTAL MOT</td>\n",
       "      <td>850131</td>\n",
       "      <td>30004437</td>\n",
       "      <td>1757400.0</td>\n",
       "      <td>NaN</td>\n",
       "      <td>u</td>\n",
       "      <td>1996996.0</td>\n",
       "      <td>NaN</td>\n",
       "      <td>NaN</td>\n",
       "    </tr>\n",
       "    <tr>\n",
       "      <th>4</th>\n",
       "      <td>2004</td>\n",
       "      <td>M</td>\n",
       "      <td>European Union</td>\n",
       "      <td>Japan</td>\n",
       "      <td>World</td>\n",
       "      <td>TOTAL CPC</td>\n",
       "      <td>TOTAL MOT</td>\n",
       "      <td>850131</td>\n",
       "      <td>106810031</td>\n",
       "      <td>6111865.0</td>\n",
       "      <td>NaN</td>\n",
       "      <td>u</td>\n",
       "      <td>5121194.0</td>\n",
       "      <td>NaN</td>\n",
       "      <td>NaN</td>\n",
       "    </tr>\n",
       "  </tbody>\n",
       "</table>\n",
       "</div>"
      ],
      "text/plain": [
       "   Period Trade Flow        Reporter Partner 2nd Partner Customs Desc  \\\n",
       "0    2004          M  European Union   World       World    TOTAL CPC   \n",
       "1    2004          X  European Union   World       World    TOTAL CPC   \n",
       "2    2004          M  European Union   China       World    TOTAL CPC   \n",
       "3    2004          X  European Union   China       World    TOTAL CPC   \n",
       "4    2004          M  European Union   Japan       World    TOTAL CPC   \n",
       "\n",
       "  Transport Mode  Commodity Code  Trade Value  Net Weight(kg)  Gross Weight  \\\n",
       "0      TOTAL MOT          850131    464236771      25556300.0           NaN   \n",
       "1      TOTAL MOT          850131    376072131      17238312.0           NaN   \n",
       "2      TOTAL MOT          850131    128609541      12554300.0           NaN   \n",
       "3      TOTAL MOT          850131     30004437       1757400.0           NaN   \n",
       "4      TOTAL MOT          850131    106810031       6111865.0           NaN   \n",
       "\n",
       "  Qty Unit         Qty Alternate Quantity unit  Alternate Quantity  \n",
       "0        u  99401701.0                     NaN                 NaN  \n",
       "1        u  15528260.0                     NaN                 NaN  \n",
       "2        u  84372230.0                     NaN                 NaN  \n",
       "3        u   1996996.0                     NaN                 NaN  \n",
       "4        u   5121194.0                     NaN                 NaN  "
      ]
     },
     "execution_count": 58,
     "metadata": {},
     "output_type": "execute_result"
    }
   ],
   "source": [
    "data.head()"
   ]
  },
  {
   "cell_type": "code",
   "execution_count": 8,
   "metadata": {},
   "outputs": [
    {
     "data": {
      "text/plain": [
       "<bound method NDFrame.describe of      Period Trade Flow        Reporter Partner 2nd Partner Customs Desc  \\\n",
       "0      2004          M  European Union   World       World    TOTAL CPC   \n",
       "1      2004          X  European Union   World       World    TOTAL CPC   \n",
       "2      2004          M  European Union   China       World    TOTAL CPC   \n",
       "3      2004          X  European Union   China       World    TOTAL CPC   \n",
       "4      2004          M  European Union   Japan       World    TOTAL CPC   \n",
       "..      ...        ...             ...     ...         ...          ...   \n",
       "980    2021          X             USA   World       World    TOTAL CPC   \n",
       "981    2021          M             USA   China       World    TOTAL CPC   \n",
       "982    2021          X             USA   China       World    TOTAL CPC   \n",
       "983    2021          M             USA   Japan       World    TOTAL CPC   \n",
       "984    2021          X             USA   Japan       World    TOTAL CPC   \n",
       "\n",
       "    Transport Mode  Commodity Code  Trade Value  Net Weight(kg)  Gross Weight  \\\n",
       "0        TOTAL MOT          850131    464236771      25556300.0           NaN   \n",
       "1        TOTAL MOT          850131    376072131      17238312.0           NaN   \n",
       "2        TOTAL MOT          850131    128609541      12554300.0           NaN   \n",
       "3        TOTAL MOT          850131     30004437       1757400.0           NaN   \n",
       "4        TOTAL MOT          850131    106810031       6111865.0           NaN   \n",
       "..             ...             ...          ...             ...           ...   \n",
       "980      TOTAL MOT          847950    330652683             NaN           NaN   \n",
       "981      TOTAL MOT          847950     14537707             NaN           NaN   \n",
       "982      TOTAL MOT          847950      9689269             NaN           NaN   \n",
       "983      TOTAL MOT          847950     91872534             NaN           NaN   \n",
       "984      TOTAL MOT          847950     10159719             NaN           NaN   \n",
       "\n",
       "    Qty Unit         Qty Alternate Quantity unit  Alternate Quantity  \n",
       "0          u  99401701.0                     NaN                 NaN  \n",
       "1          u  15528260.0                     NaN                 NaN  \n",
       "2          u  84372230.0                     NaN                 NaN  \n",
       "3          u   1996996.0                     NaN                 NaN  \n",
       "4          u   5121194.0                     NaN                 NaN  \n",
       "..       ...         ...                     ...                 ...  \n",
       "980        u     12487.0                       u             12487.0  \n",
       "981        u     12666.0                       u             12666.0  \n",
       "982        u       346.0                       u               346.0  \n",
       "983        u     13000.0                       u             13000.0  \n",
       "984        u       281.0                       u               281.0  \n",
       "\n",
       "[985 rows x 15 columns]>"
      ]
     },
     "execution_count": 8,
     "metadata": {},
     "output_type": "execute_result"
    }
   ],
   "source": [
    "data.describe"
   ]
  },
  {
   "cell_type": "code",
   "execution_count": 9,
   "metadata": {},
   "outputs": [
    {
     "name": "stdout",
     "output_type": "stream",
     "text": [
      "0      464236771\n",
      "1      376072131\n",
      "2      128609541\n",
      "3       30004437\n",
      "4      106810031\n",
      "         ...    \n",
      "980    330652683\n",
      "981     14537707\n",
      "982      9689269\n",
      "983     91872534\n",
      "984     10159719\n",
      "Name: Trade Value, Length: 985, dtype: int64\n"
     ]
    }
   ],
   "source": [
    "print(data[\"Trade Value\"])"
   ]
  },
  {
   "cell_type": "code",
   "execution_count": 11,
   "metadata": {},
   "outputs": [
    {
     "name": "stdout",
     "output_type": "stream",
     "text": [
      "     Period Trade Flow        Reporter            Partner  Commodity Code  \\\n",
      "2      2004          M  European Union              China          850131   \n",
      "3      2004          X  European Union              China          850131   \n",
      "4      2004          M  European Union              Japan          850131   \n",
      "5      2004          X  European Union              Japan          850131   \n",
      "6      2004          M  European Union  Other Europe, nes          850131   \n",
      "..      ...        ...             ...                ...             ...   \n",
      "978    2021          X           Japan                USA          847950   \n",
      "981    2021          M             USA              China          847950   \n",
      "982    2021          X             USA              China          847950   \n",
      "983    2021          M             USA              Japan          847950   \n",
      "984    2021          X             USA              Japan          847950   \n",
      "\n",
      "     Trade Value         Qty  \n",
      "2      128609541  84372230.0  \n",
      "3       30004437   1996996.0  \n",
      "4      106810031   5121194.0  \n",
      "5       31489538   1613865.0  \n",
      "6          18393      1082.0  \n",
      "..           ...         ...  \n",
      "978    511627192     29339.0  \n",
      "981     14537707     12666.0  \n",
      "982      9689269       346.0  \n",
      "983     91872534     13000.0  \n",
      "984     10159719       281.0  \n",
      "\n",
      "[697 rows x 7 columns]\n"
     ]
    }
   ],
   "source": [
    "#creating a subset with important information\n",
    "subset_1 = data.loc[:,[\"Period\",\"Trade Flow\",\"Reporter\",\"Partner\",\"Commodity Code\",\"Trade Value\",\"Qty\"]]\n",
    "subset_1 = subset_1.drop(subset_1[subset_1.Partner == \"World\"].index)\n",
    "\n",
    "\n",
    "print(subset_1)"
   ]
  },
  {
   "cell_type": "code",
   "execution_count": 12,
   "metadata": {},
   "outputs": [
    {
     "data": {
      "text/plain": [
       "Period              int64\n",
       "Trade Flow         object\n",
       "Reporter           object\n",
       "Partner            object\n",
       "Commodity Code      int64\n",
       "Trade Value         int64\n",
       "Qty               float64\n",
       "dtype: object"
      ]
     },
     "execution_count": 12,
     "metadata": {},
     "output_type": "execute_result"
    }
   ],
   "source": [
    "subset_1.dtypes #cheking the datatype"
   ]
  },
  {
   "cell_type": "code",
   "execution_count": 13,
   "metadata": {},
   "outputs": [
    {
     "data": {
      "text/plain": [
       "array(['European Union', 'China', 'Japan', 'USA'], dtype=object)"
      ]
     },
     "execution_count": 13,
     "metadata": {},
     "output_type": "execute_result"
    }
   ],
   "source": [
    "subset_1[\"Reporter\"].unique()"
   ]
  },
  {
   "cell_type": "markdown",
   "metadata": {},
   "source": [
    "Now we look at: \n",
    "1. **847950** -> industrial robots, machinery and mechanical appliances \n",
    "2. **850131** -> Electric motors and generators,DC, of an ouput not exceeding 750W \n",
    "3. Import and Export of Electric motors"
   ]
  },
  {
   "cell_type": "code",
   "execution_count": 14,
   "metadata": {},
   "outputs": [
    {
     "data": {
      "text/html": [
       "<div>\n",
       "<style scoped>\n",
       "    .dataframe tbody tr th:only-of-type {\n",
       "        vertical-align: middle;\n",
       "    }\n",
       "\n",
       "    .dataframe tbody tr th {\n",
       "        vertical-align: top;\n",
       "    }\n",
       "\n",
       "    .dataframe thead th {\n",
       "        text-align: right;\n",
       "    }\n",
       "</style>\n",
       "<table border=\"1\" class=\"dataframe\">\n",
       "  <thead>\n",
       "    <tr style=\"text-align: right;\">\n",
       "      <th></th>\n",
       "      <th>Period</th>\n",
       "      <th>Trade Flow</th>\n",
       "      <th>Reporter</th>\n",
       "      <th>Partner</th>\n",
       "      <th>Commodity Code</th>\n",
       "      <th>Trade Value</th>\n",
       "      <th>Qty</th>\n",
       "    </tr>\n",
       "  </thead>\n",
       "  <tbody>\n",
       "    <tr>\n",
       "      <th>2</th>\n",
       "      <td>2004</td>\n",
       "      <td>M</td>\n",
       "      <td>European Union</td>\n",
       "      <td>China</td>\n",
       "      <td>850131</td>\n",
       "      <td>128609541</td>\n",
       "      <td>84372230.0</td>\n",
       "    </tr>\n",
       "    <tr>\n",
       "      <th>4</th>\n",
       "      <td>2004</td>\n",
       "      <td>M</td>\n",
       "      <td>European Union</td>\n",
       "      <td>Japan</td>\n",
       "      <td>850131</td>\n",
       "      <td>106810031</td>\n",
       "      <td>5121194.0</td>\n",
       "    </tr>\n",
       "    <tr>\n",
       "      <th>6</th>\n",
       "      <td>2004</td>\n",
       "      <td>M</td>\n",
       "      <td>European Union</td>\n",
       "      <td>Other Europe, nes</td>\n",
       "      <td>850131</td>\n",
       "      <td>18393</td>\n",
       "      <td>1082.0</td>\n",
       "    </tr>\n",
       "    <tr>\n",
       "      <th>8</th>\n",
       "      <td>2004</td>\n",
       "      <td>M</td>\n",
       "      <td>European Union</td>\n",
       "      <td>USA</td>\n",
       "      <td>850131</td>\n",
       "      <td>74678790</td>\n",
       "      <td>2017715.0</td>\n",
       "    </tr>\n",
       "    <tr>\n",
       "      <th>12</th>\n",
       "      <td>2004</td>\n",
       "      <td>M</td>\n",
       "      <td>China</td>\n",
       "      <td>China</td>\n",
       "      <td>850131</td>\n",
       "      <td>25598844</td>\n",
       "      <td>9777714.0</td>\n",
       "    </tr>\n",
       "    <tr>\n",
       "      <th>...</th>\n",
       "      <td>...</td>\n",
       "      <td>...</td>\n",
       "      <td>...</td>\n",
       "      <td>...</td>\n",
       "      <td>...</td>\n",
       "      <td>...</td>\n",
       "      <td>...</td>\n",
       "    </tr>\n",
       "    <tr>\n",
       "      <th>481</th>\n",
       "      <td>2021</td>\n",
       "      <td>M</td>\n",
       "      <td>China</td>\n",
       "      <td>USA</td>\n",
       "      <td>850131</td>\n",
       "      <td>38809497</td>\n",
       "      <td>524910.0</td>\n",
       "    </tr>\n",
       "    <tr>\n",
       "      <th>485</th>\n",
       "      <td>2021</td>\n",
       "      <td>M</td>\n",
       "      <td>Japan</td>\n",
       "      <td>China</td>\n",
       "      <td>850131</td>\n",
       "      <td>267237791</td>\n",
       "      <td>NaN</td>\n",
       "    </tr>\n",
       "    <tr>\n",
       "      <th>487</th>\n",
       "      <td>2021</td>\n",
       "      <td>M</td>\n",
       "      <td>Japan</td>\n",
       "      <td>USA</td>\n",
       "      <td>850131</td>\n",
       "      <td>19790209</td>\n",
       "      <td>NaN</td>\n",
       "    </tr>\n",
       "    <tr>\n",
       "      <th>491</th>\n",
       "      <td>2021</td>\n",
       "      <td>M</td>\n",
       "      <td>USA</td>\n",
       "      <td>China</td>\n",
       "      <td>850131</td>\n",
       "      <td>465145104</td>\n",
       "      <td>37901474.0</td>\n",
       "    </tr>\n",
       "    <tr>\n",
       "      <th>493</th>\n",
       "      <td>2021</td>\n",
       "      <td>M</td>\n",
       "      <td>USA</td>\n",
       "      <td>Japan</td>\n",
       "      <td>850131</td>\n",
       "      <td>422876475</td>\n",
       "      <td>14925447.0</td>\n",
       "    </tr>\n",
       "  </tbody>\n",
       "</table>\n",
       "<p>185 rows × 7 columns</p>\n",
       "</div>"
      ],
      "text/plain": [
       "     Period Trade Flow        Reporter            Partner  Commodity Code  \\\n",
       "2      2004          M  European Union              China          850131   \n",
       "4      2004          M  European Union              Japan          850131   \n",
       "6      2004          M  European Union  Other Europe, nes          850131   \n",
       "8      2004          M  European Union                USA          850131   \n",
       "12     2004          M           China              China          850131   \n",
       "..      ...        ...             ...                ...             ...   \n",
       "481    2021          M           China                USA          850131   \n",
       "485    2021          M           Japan              China          850131   \n",
       "487    2021          M           Japan                USA          850131   \n",
       "491    2021          M             USA              China          850131   \n",
       "493    2021          M             USA              Japan          850131   \n",
       "\n",
       "     Trade Value         Qty  \n",
       "2      128609541  84372230.0  \n",
       "4      106810031   5121194.0  \n",
       "6          18393      1082.0  \n",
       "8       74678790   2017715.0  \n",
       "12      25598844   9777714.0  \n",
       "..           ...         ...  \n",
       "481     38809497    524910.0  \n",
       "485    267237791         NaN  \n",
       "487     19790209         NaN  \n",
       "491    465145104  37901474.0  \n",
       "493    422876475  14925447.0  \n",
       "\n",
       "[185 rows x 7 columns]"
      ]
     },
     "execution_count": 14,
     "metadata": {},
     "output_type": "execute_result"
    }
   ],
   "source": [
    "#subset import for motors \n",
    "subset_import_mot = subset_1.loc[((subset_1[\"Trade Flow\"] == \"M\") & (subset_1[\"Commodity Code\"] == 850131))]\n",
    "subset_import_mot"
   ]
  },
  {
   "cell_type": "code",
   "execution_count": 15,
   "metadata": {},
   "outputs": [
    {
     "data": {
      "text/html": [
       "<div>\n",
       "<style scoped>\n",
       "    .dataframe tbody tr th:only-of-type {\n",
       "        vertical-align: middle;\n",
       "    }\n",
       "\n",
       "    .dataframe tbody tr th {\n",
       "        vertical-align: top;\n",
       "    }\n",
       "\n",
       "    .dataframe thead th {\n",
       "        text-align: right;\n",
       "    }\n",
       "</style>\n",
       "<table border=\"1\" class=\"dataframe\">\n",
       "  <thead>\n",
       "    <tr style=\"text-align: right;\">\n",
       "      <th></th>\n",
       "      <th>Period</th>\n",
       "      <th>Trade Flow</th>\n",
       "      <th>Reporter</th>\n",
       "      <th>Partner</th>\n",
       "      <th>Commodity Code</th>\n",
       "      <th>Trade Value</th>\n",
       "      <th>Qty</th>\n",
       "    </tr>\n",
       "  </thead>\n",
       "  <tbody>\n",
       "    <tr>\n",
       "      <th>497</th>\n",
       "      <td>2004</td>\n",
       "      <td>M</td>\n",
       "      <td>European Union</td>\n",
       "      <td>China</td>\n",
       "      <td>847950</td>\n",
       "      <td>1499976</td>\n",
       "      <td>50.0</td>\n",
       "    </tr>\n",
       "    <tr>\n",
       "      <th>499</th>\n",
       "      <td>2004</td>\n",
       "      <td>M</td>\n",
       "      <td>European Union</td>\n",
       "      <td>Japan</td>\n",
       "      <td>847950</td>\n",
       "      <td>133789030</td>\n",
       "      <td>4421.0</td>\n",
       "    </tr>\n",
       "    <tr>\n",
       "      <th>501</th>\n",
       "      <td>2004</td>\n",
       "      <td>M</td>\n",
       "      <td>European Union</td>\n",
       "      <td>Other Europe, nes</td>\n",
       "      <td>847950</td>\n",
       "      <td>124</td>\n",
       "      <td>NaN</td>\n",
       "    </tr>\n",
       "    <tr>\n",
       "      <th>502</th>\n",
       "      <td>2004</td>\n",
       "      <td>M</td>\n",
       "      <td>European Union</td>\n",
       "      <td>USA</td>\n",
       "      <td>847950</td>\n",
       "      <td>32526195</td>\n",
       "      <td>1075.0</td>\n",
       "    </tr>\n",
       "    <tr>\n",
       "      <th>506</th>\n",
       "      <td>2004</td>\n",
       "      <td>M</td>\n",
       "      <td>China</td>\n",
       "      <td>China</td>\n",
       "      <td>847950</td>\n",
       "      <td>3405759</td>\n",
       "      <td>595.0</td>\n",
       "    </tr>\n",
       "    <tr>\n",
       "      <th>...</th>\n",
       "      <td>...</td>\n",
       "      <td>...</td>\n",
       "      <td>...</td>\n",
       "      <td>...</td>\n",
       "      <td>...</td>\n",
       "      <td>...</td>\n",
       "      <td>...</td>\n",
       "    </tr>\n",
       "    <tr>\n",
       "      <th>971</th>\n",
       "      <td>2021</td>\n",
       "      <td>M</td>\n",
       "      <td>China</td>\n",
       "      <td>USA</td>\n",
       "      <td>847950</td>\n",
       "      <td>9724909</td>\n",
       "      <td>189.0</td>\n",
       "    </tr>\n",
       "    <tr>\n",
       "      <th>975</th>\n",
       "      <td>2021</td>\n",
       "      <td>M</td>\n",
       "      <td>Japan</td>\n",
       "      <td>China</td>\n",
       "      <td>847950</td>\n",
       "      <td>26737764</td>\n",
       "      <td>2869.0</td>\n",
       "    </tr>\n",
       "    <tr>\n",
       "      <th>977</th>\n",
       "      <td>2021</td>\n",
       "      <td>M</td>\n",
       "      <td>Japan</td>\n",
       "      <td>USA</td>\n",
       "      <td>847950</td>\n",
       "      <td>4521157</td>\n",
       "      <td>335.0</td>\n",
       "    </tr>\n",
       "    <tr>\n",
       "      <th>981</th>\n",
       "      <td>2021</td>\n",
       "      <td>M</td>\n",
       "      <td>USA</td>\n",
       "      <td>China</td>\n",
       "      <td>847950</td>\n",
       "      <td>14537707</td>\n",
       "      <td>12666.0</td>\n",
       "    </tr>\n",
       "    <tr>\n",
       "      <th>983</th>\n",
       "      <td>2021</td>\n",
       "      <td>M</td>\n",
       "      <td>USA</td>\n",
       "      <td>Japan</td>\n",
       "      <td>847950</td>\n",
       "      <td>91872534</td>\n",
       "      <td>13000.0</td>\n",
       "    </tr>\n",
       "  </tbody>\n",
       "</table>\n",
       "<p>184 rows × 7 columns</p>\n",
       "</div>"
      ],
      "text/plain": [
       "     Period Trade Flow        Reporter            Partner  Commodity Code  \\\n",
       "497    2004          M  European Union              China          847950   \n",
       "499    2004          M  European Union              Japan          847950   \n",
       "501    2004          M  European Union  Other Europe, nes          847950   \n",
       "502    2004          M  European Union                USA          847950   \n",
       "506    2004          M           China              China          847950   \n",
       "..      ...        ...             ...                ...             ...   \n",
       "971    2021          M           China                USA          847950   \n",
       "975    2021          M           Japan              China          847950   \n",
       "977    2021          M           Japan                USA          847950   \n",
       "981    2021          M             USA              China          847950   \n",
       "983    2021          M             USA              Japan          847950   \n",
       "\n",
       "     Trade Value      Qty  \n",
       "497      1499976     50.0  \n",
       "499    133789030   4421.0  \n",
       "501          124      NaN  \n",
       "502     32526195   1075.0  \n",
       "506      3405759    595.0  \n",
       "..           ...      ...  \n",
       "971      9724909    189.0  \n",
       "975     26737764   2869.0  \n",
       "977      4521157    335.0  \n",
       "981     14537707  12666.0  \n",
       "983     91872534  13000.0  \n",
       "\n",
       "[184 rows x 7 columns]"
      ]
     },
     "execution_count": 15,
     "metadata": {},
     "output_type": "execute_result"
    }
   ],
   "source": [
    "#subset import for industrial robots and machinery  -> not being used!\n",
    "subset_import_rob = subset_1.loc[((subset_1[\"Trade Flow\"] == \"M\") & (subset_1[\"Commodity Code\"] == 847950))]\n",
    "subset_import_rob"
   ]
  },
  {
   "cell_type": "code",
   "execution_count": 16,
   "metadata": {},
   "outputs": [
    {
     "data": {
      "text/html": [
       "<div>\n",
       "<style scoped>\n",
       "    .dataframe tbody tr th:only-of-type {\n",
       "        vertical-align: middle;\n",
       "    }\n",
       "\n",
       "    .dataframe tbody tr th {\n",
       "        vertical-align: top;\n",
       "    }\n",
       "\n",
       "    .dataframe thead th {\n",
       "        text-align: right;\n",
       "    }\n",
       "</style>\n",
       "<table border=\"1\" class=\"dataframe\">\n",
       "  <thead>\n",
       "    <tr style=\"text-align: right;\">\n",
       "      <th></th>\n",
       "      <th>Period</th>\n",
       "      <th>Trade Flow</th>\n",
       "      <th>Reporter</th>\n",
       "      <th>Partner</th>\n",
       "      <th>Commodity Code</th>\n",
       "      <th>Trade Value</th>\n",
       "      <th>Qty</th>\n",
       "    </tr>\n",
       "  </thead>\n",
       "  <tbody>\n",
       "    <tr>\n",
       "      <th>3</th>\n",
       "      <td>2004</td>\n",
       "      <td>X</td>\n",
       "      <td>European Union</td>\n",
       "      <td>China</td>\n",
       "      <td>850131</td>\n",
       "      <td>30004437</td>\n",
       "      <td>1996996.0</td>\n",
       "    </tr>\n",
       "    <tr>\n",
       "      <th>5</th>\n",
       "      <td>2004</td>\n",
       "      <td>X</td>\n",
       "      <td>European Union</td>\n",
       "      <td>Japan</td>\n",
       "      <td>850131</td>\n",
       "      <td>31489538</td>\n",
       "      <td>1613865.0</td>\n",
       "    </tr>\n",
       "    <tr>\n",
       "      <th>7</th>\n",
       "      <td>2004</td>\n",
       "      <td>X</td>\n",
       "      <td>European Union</td>\n",
       "      <td>Other Europe, nes</td>\n",
       "      <td>850131</td>\n",
       "      <td>4141</td>\n",
       "      <td>118.0</td>\n",
       "    </tr>\n",
       "    <tr>\n",
       "      <th>9</th>\n",
       "      <td>2004</td>\n",
       "      <td>X</td>\n",
       "      <td>European Union</td>\n",
       "      <td>USA</td>\n",
       "      <td>850131</td>\n",
       "      <td>117988923</td>\n",
       "      <td>4142191.0</td>\n",
       "    </tr>\n",
       "    <tr>\n",
       "      <th>14</th>\n",
       "      <td>2004</td>\n",
       "      <td>X</td>\n",
       "      <td>China</td>\n",
       "      <td>Japan</td>\n",
       "      <td>850131</td>\n",
       "      <td>109406651</td>\n",
       "      <td>10562511.0</td>\n",
       "    </tr>\n",
       "    <tr>\n",
       "      <th>...</th>\n",
       "      <td>...</td>\n",
       "      <td>...</td>\n",
       "      <td>...</td>\n",
       "      <td>...</td>\n",
       "      <td>...</td>\n",
       "      <td>...</td>\n",
       "      <td>...</td>\n",
       "    </tr>\n",
       "    <tr>\n",
       "      <th>482</th>\n",
       "      <td>2021</td>\n",
       "      <td>X</td>\n",
       "      <td>China</td>\n",
       "      <td>USA</td>\n",
       "      <td>850131</td>\n",
       "      <td>524707386</td>\n",
       "      <td>44469343.0</td>\n",
       "    </tr>\n",
       "    <tr>\n",
       "      <th>486</th>\n",
       "      <td>2021</td>\n",
       "      <td>X</td>\n",
       "      <td>Japan</td>\n",
       "      <td>China</td>\n",
       "      <td>850131</td>\n",
       "      <td>304059122</td>\n",
       "      <td>NaN</td>\n",
       "    </tr>\n",
       "    <tr>\n",
       "      <th>488</th>\n",
       "      <td>2021</td>\n",
       "      <td>X</td>\n",
       "      <td>Japan</td>\n",
       "      <td>USA</td>\n",
       "      <td>850131</td>\n",
       "      <td>308491208</td>\n",
       "      <td>NaN</td>\n",
       "    </tr>\n",
       "    <tr>\n",
       "      <th>492</th>\n",
       "      <td>2021</td>\n",
       "      <td>X</td>\n",
       "      <td>USA</td>\n",
       "      <td>China</td>\n",
       "      <td>850131</td>\n",
       "      <td>48006998</td>\n",
       "      <td>849494.0</td>\n",
       "    </tr>\n",
       "    <tr>\n",
       "      <th>494</th>\n",
       "      <td>2021</td>\n",
       "      <td>X</td>\n",
       "      <td>USA</td>\n",
       "      <td>Japan</td>\n",
       "      <td>850131</td>\n",
       "      <td>16306010</td>\n",
       "      <td>179244.0</td>\n",
       "    </tr>\n",
       "  </tbody>\n",
       "</table>\n",
       "<p>166 rows × 7 columns</p>\n",
       "</div>"
      ],
      "text/plain": [
       "     Period Trade Flow        Reporter            Partner  Commodity Code  \\\n",
       "3      2004          X  European Union              China          850131   \n",
       "5      2004          X  European Union              Japan          850131   \n",
       "7      2004          X  European Union  Other Europe, nes          850131   \n",
       "9      2004          X  European Union                USA          850131   \n",
       "14     2004          X           China              Japan          850131   \n",
       "..      ...        ...             ...                ...             ...   \n",
       "482    2021          X           China                USA          850131   \n",
       "486    2021          X           Japan              China          850131   \n",
       "488    2021          X           Japan                USA          850131   \n",
       "492    2021          X             USA              China          850131   \n",
       "494    2021          X             USA              Japan          850131   \n",
       "\n",
       "     Trade Value         Qty  \n",
       "3       30004437   1996996.0  \n",
       "5       31489538   1613865.0  \n",
       "7           4141       118.0  \n",
       "9      117988923   4142191.0  \n",
       "14     109406651  10562511.0  \n",
       "..           ...         ...  \n",
       "482    524707386  44469343.0  \n",
       "486    304059122         NaN  \n",
       "488    308491208         NaN  \n",
       "492     48006998    849494.0  \n",
       "494     16306010    179244.0  \n",
       "\n",
       "[166 rows x 7 columns]"
      ]
     },
     "execution_count": 16,
     "metadata": {},
     "output_type": "execute_result"
    }
   ],
   "source": [
    "#Export data of Electric motors and generators, DC, of an ouput not exceeding 750W = Code 850131\n",
    "subset_export_mot = subset_1.loc[((subset_1[\"Trade Flow\"] == \"X\") & (subset_1[\"Commodity Code\"] == 850131))]\n",
    "subset_export_mot"
   ]
  },
  {
   "cell_type": "markdown",
   "metadata": {},
   "source": [
    "We look only at the motors since heavy machinery is usually not exported/imported -> the important part of a robot is the electric motor -> we use not exceeding 750W because this is the size/ power of a robot -> it can lift up 3-5kg? Do the math! "
   ]
  },
  {
   "cell_type": "code",
   "execution_count": 17,
   "metadata": {},
   "outputs": [
    {
     "data": {
      "text/html": [
       "<div>\n",
       "<style scoped>\n",
       "    .dataframe tbody tr th:only-of-type {\n",
       "        vertical-align: middle;\n",
       "    }\n",
       "\n",
       "    .dataframe tbody tr th {\n",
       "        vertical-align: top;\n",
       "    }\n",
       "\n",
       "    .dataframe thead th {\n",
       "        text-align: right;\n",
       "    }\n",
       "</style>\n",
       "<table border=\"1\" class=\"dataframe\">\n",
       "  <thead>\n",
       "    <tr style=\"text-align: right;\">\n",
       "      <th></th>\n",
       "      <th>Period</th>\n",
       "      <th>Trade Flow</th>\n",
       "      <th>Reporter</th>\n",
       "      <th>Partner</th>\n",
       "      <th>Commodity Code</th>\n",
       "      <th>Trade Value</th>\n",
       "      <th>Qty</th>\n",
       "    </tr>\n",
       "  </thead>\n",
       "  <tbody>\n",
       "    <tr>\n",
       "      <th>498</th>\n",
       "      <td>2004</td>\n",
       "      <td>X</td>\n",
       "      <td>European Union</td>\n",
       "      <td>China</td>\n",
       "      <td>847950</td>\n",
       "      <td>47037396</td>\n",
       "      <td>2281.0</td>\n",
       "    </tr>\n",
       "    <tr>\n",
       "      <th>500</th>\n",
       "      <td>2004</td>\n",
       "      <td>X</td>\n",
       "      <td>European Union</td>\n",
       "      <td>Japan</td>\n",
       "      <td>847950</td>\n",
       "      <td>3923059</td>\n",
       "      <td>190.0</td>\n",
       "    </tr>\n",
       "    <tr>\n",
       "      <th>503</th>\n",
       "      <td>2004</td>\n",
       "      <td>X</td>\n",
       "      <td>European Union</td>\n",
       "      <td>USA</td>\n",
       "      <td>847950</td>\n",
       "      <td>125348862</td>\n",
       "      <td>6079.0</td>\n",
       "    </tr>\n",
       "    <tr>\n",
       "      <th>508</th>\n",
       "      <td>2004</td>\n",
       "      <td>X</td>\n",
       "      <td>China</td>\n",
       "      <td>Japan</td>\n",
       "      <td>847950</td>\n",
       "      <td>70382</td>\n",
       "      <td>61.0</td>\n",
       "    </tr>\n",
       "    <tr>\n",
       "      <th>510</th>\n",
       "      <td>2004</td>\n",
       "      <td>X</td>\n",
       "      <td>China</td>\n",
       "      <td>USA</td>\n",
       "      <td>847950</td>\n",
       "      <td>59350</td>\n",
       "      <td>5.0</td>\n",
       "    </tr>\n",
       "    <tr>\n",
       "      <th>...</th>\n",
       "      <td>...</td>\n",
       "      <td>...</td>\n",
       "      <td>...</td>\n",
       "      <td>...</td>\n",
       "      <td>...</td>\n",
       "      <td>...</td>\n",
       "      <td>...</td>\n",
       "    </tr>\n",
       "    <tr>\n",
       "      <th>972</th>\n",
       "      <td>2021</td>\n",
       "      <td>X</td>\n",
       "      <td>China</td>\n",
       "      <td>USA</td>\n",
       "      <td>847950</td>\n",
       "      <td>20512875</td>\n",
       "      <td>4907.0</td>\n",
       "    </tr>\n",
       "    <tr>\n",
       "      <th>976</th>\n",
       "      <td>2021</td>\n",
       "      <td>X</td>\n",
       "      <td>Japan</td>\n",
       "      <td>China</td>\n",
       "      <td>847950</td>\n",
       "      <td>969765752</td>\n",
       "      <td>83457.0</td>\n",
       "    </tr>\n",
       "    <tr>\n",
       "      <th>978</th>\n",
       "      <td>2021</td>\n",
       "      <td>X</td>\n",
       "      <td>Japan</td>\n",
       "      <td>USA</td>\n",
       "      <td>847950</td>\n",
       "      <td>511627192</td>\n",
       "      <td>29339.0</td>\n",
       "    </tr>\n",
       "    <tr>\n",
       "      <th>982</th>\n",
       "      <td>2021</td>\n",
       "      <td>X</td>\n",
       "      <td>USA</td>\n",
       "      <td>China</td>\n",
       "      <td>847950</td>\n",
       "      <td>9689269</td>\n",
       "      <td>346.0</td>\n",
       "    </tr>\n",
       "    <tr>\n",
       "      <th>984</th>\n",
       "      <td>2021</td>\n",
       "      <td>X</td>\n",
       "      <td>USA</td>\n",
       "      <td>Japan</td>\n",
       "      <td>847950</td>\n",
       "      <td>10159719</td>\n",
       "      <td>281.0</td>\n",
       "    </tr>\n",
       "  </tbody>\n",
       "</table>\n",
       "<p>162 rows × 7 columns</p>\n",
       "</div>"
      ],
      "text/plain": [
       "     Period Trade Flow        Reporter Partner  Commodity Code  Trade Value  \\\n",
       "498    2004          X  European Union   China          847950     47037396   \n",
       "500    2004          X  European Union   Japan          847950      3923059   \n",
       "503    2004          X  European Union     USA          847950    125348862   \n",
       "508    2004          X           China   Japan          847950        70382   \n",
       "510    2004          X           China     USA          847950        59350   \n",
       "..      ...        ...             ...     ...             ...          ...   \n",
       "972    2021          X           China     USA          847950     20512875   \n",
       "976    2021          X           Japan   China          847950    969765752   \n",
       "978    2021          X           Japan     USA          847950    511627192   \n",
       "982    2021          X             USA   China          847950      9689269   \n",
       "984    2021          X             USA   Japan          847950     10159719   \n",
       "\n",
       "         Qty  \n",
       "498   2281.0  \n",
       "500    190.0  \n",
       "503   6079.0  \n",
       "508     61.0  \n",
       "510      5.0  \n",
       "..       ...  \n",
       "972   4907.0  \n",
       "976  83457.0  \n",
       "978  29339.0  \n",
       "982    346.0  \n",
       "984    281.0  \n",
       "\n",
       "[162 rows x 7 columns]"
      ]
     },
     "execution_count": 17,
     "metadata": {},
     "output_type": "execute_result"
    }
   ],
   "source": [
    "#subset for export of industrial robots 847950 -> \"machinery or mechanical appliances, industrial robots, n.e.s. included\" -> not being used\n",
    "subset_export_rob = subset_1.loc[((subset_1[\"Trade Flow\"] == \"X\") & (subset_1[\"Commodity Code\"] == 847950))]\n",
    "subset_export_rob"
   ]
  },
  {
   "cell_type": "code",
   "execution_count": 18,
   "metadata": {},
   "outputs": [
    {
     "name": "stdout",
     "output_type": "stream",
     "text": [
      "    Period        Reporter  Partner\n",
      "0     2004           China        2\n",
      "1     2004  European Union        4\n",
      "2     2004           Japan        2\n",
      "3     2004             USA        2\n",
      "4     2005           China        2\n",
      "5     2005  European Union        4\n",
      "6     2005           Japan        2\n",
      "7     2005             USA        2\n",
      "8     2006           China        2\n",
      "9     2006  European Union        4\n",
      "10    2006           Japan        2\n",
      "11    2006             USA        2\n",
      "12    2007           China        2\n",
      "13    2007  European Union        4\n",
      "14    2007           Japan        2\n",
      "15    2007             USA        2\n",
      "16    2008           China        2\n",
      "17    2008  European Union        3\n",
      "18    2008           Japan        2\n",
      "19    2008             USA        2\n",
      "20    2009           China        2\n",
      "21    2009  European Union        3\n",
      "22    2009           Japan        2\n",
      "23    2009             USA        2\n",
      "24    2010           China        2\n",
      "25    2010  European Union        3\n",
      "26    2010           Japan        2\n",
      "27    2010             USA        2\n",
      "28    2011           China        2\n",
      "29    2011  European Union        3\n",
      "30    2011           Japan        2\n",
      "31    2011             USA        2\n",
      "32    2012           China        2\n",
      "33    2012  European Union        3\n",
      "34    2012           Japan        2\n",
      "35    2012             USA        2\n",
      "36    2013           China        2\n",
      "37    2013  European Union        3\n",
      "38    2013           Japan        2\n",
      "39    2013             USA        2\n",
      "40    2014           China        2\n",
      "41    2014  European Union        3\n",
      "42    2014           Japan        2\n",
      "43    2014             USA        2\n",
      "44    2015           China        2\n",
      "45    2015  European Union        3\n",
      "46    2015           Japan        2\n",
      "47    2015             USA        2\n",
      "48    2016           China        2\n",
      "49    2016  European Union        3\n",
      "50    2016           Japan        2\n",
      "51    2016             USA        2\n",
      "52    2017           China        2\n",
      "53    2017  European Union        3\n",
      "54    2017           Japan        2\n",
      "55    2017             USA        2\n",
      "56    2018           China        2\n",
      "57    2018  European Union        3\n",
      "58    2018           Japan        2\n",
      "59    2018             USA        2\n",
      "60    2019           China        2\n",
      "61    2019  European Union        3\n",
      "62    2019           Japan        2\n",
      "63    2019             USA        2\n",
      "64    2020           China        2\n",
      "65    2020  European Union        3\n",
      "66    2020           Japan        2\n",
      "67    2020             USA        2\n",
      "68    2021           China        2\n",
      "69    2021  European Union        3\n",
      "70    2021           Japan        2\n",
      "71    2021             USA        2\n"
     ]
    }
   ],
   "source": [
    "#group combinations -> how many partners does each country have for import of motors? \n",
    "def groupby_partners(dataset, search=\"Partner\"):\n",
    "    groupby_partners = dataset.groupby([\"Period\",\"Reporter\"])[search].size().reset_index()\n",
    "    return groupby_partners\n",
    "\n",
    "subset_multiples = groupby_partners(subset_export_mot)\n",
    "print (subset_multiples.to_string())"
   ]
  },
  {
   "cell_type": "markdown",
   "metadata": {},
   "source": [
    "My questions for the the project: \n",
    "- 1. How much exports and imports trade value per year do the main players in the world have?\n",
    "- 2. How does the trade value change over time for imports and exports from the main global players?\n",
    "- 3. How does the quantity change over time for imports and exports from the main global players? \n",
    "- 4. What are China's main stakeholders today? "
   ]
  },
  {
   "cell_type": "markdown",
   "metadata": {},
   "source": [
    "Question 1) How much exports and imports trade value per year do the main players in the world have?\n",
    "- In order to visualize the main players worldwide, I chose to create a worldmap indicating the average trade value per year form 2004 to 2021. "
   ]
  },
  {
   "cell_type": "code",
   "execution_count": 19,
   "metadata": {},
   "outputs": [
    {
     "name": "stdout",
     "output_type": "stream",
     "text": [
      "         Reporter   Trade Value\n",
      "0           China  7.850897e+07\n",
      "1  European Union  2.400696e+08\n",
      "2           Japan  1.081896e+08\n",
      "3             USA  2.586441e+08\n"
     ]
    },
    {
     "data": {
      "application/vnd.plotly.v1+json": {
       "config": {
        "plotlyServerURL": "https://plot.ly"
       },
       "data": [
        {
         "coloraxis": "coloraxis",
         "geo": "geo",
         "hovertemplate": "Reporter=%{location}<br>Trade Value=%{z}<extra></extra>",
         "locationmode": "country names",
         "locations": [
          "China",
          "European Union",
          "Japan",
          "USA"
         ],
         "name": "",
         "type": "choropleth",
         "z": [
          78508970.2962963,
          240069556.05084747,
          108189569.91666667,
          258644098.58333334
         ]
        }
       ],
       "layout": {
        "coloraxis": {
         "colorbar": {
          "title": {
           "text": "Trade Value"
          }
         },
         "colorscale": [
          [
           0,
           "#0d0887"
          ],
          [
           0.1111111111111111,
           "#46039f"
          ],
          [
           0.2222222222222222,
           "#7201a8"
          ],
          [
           0.3333333333333333,
           "#9c179e"
          ],
          [
           0.4444444444444444,
           "#bd3786"
          ],
          [
           0.5555555555555556,
           "#d8576b"
          ],
          [
           0.6666666666666666,
           "#ed7953"
          ],
          [
           0.7777777777777778,
           "#fb9f3a"
          ],
          [
           0.8888888888888888,
           "#fdca26"
          ],
          [
           1,
           "#f0f921"
          ]
         ]
        },
        "geo": {
         "center": {},
         "domain": {
          "x": [
           0,
           1
          ],
          "y": [
           0,
           1
          ]
         }
        },
        "legend": {
         "tracegroupgap": 0
        },
        "margin": {
         "t": 60
        },
        "template": {
         "data": {
          "bar": [
           {
            "error_x": {
             "color": "#2a3f5f"
            },
            "error_y": {
             "color": "#2a3f5f"
            },
            "marker": {
             "line": {
              "color": "#E5ECF6",
              "width": 0.5
             },
             "pattern": {
              "fillmode": "overlay",
              "size": 10,
              "solidity": 0.2
             }
            },
            "type": "bar"
           }
          ],
          "barpolar": [
           {
            "marker": {
             "line": {
              "color": "#E5ECF6",
              "width": 0.5
             },
             "pattern": {
              "fillmode": "overlay",
              "size": 10,
              "solidity": 0.2
             }
            },
            "type": "barpolar"
           }
          ],
          "carpet": [
           {
            "aaxis": {
             "endlinecolor": "#2a3f5f",
             "gridcolor": "white",
             "linecolor": "white",
             "minorgridcolor": "white",
             "startlinecolor": "#2a3f5f"
            },
            "baxis": {
             "endlinecolor": "#2a3f5f",
             "gridcolor": "white",
             "linecolor": "white",
             "minorgridcolor": "white",
             "startlinecolor": "#2a3f5f"
            },
            "type": "carpet"
           }
          ],
          "choropleth": [
           {
            "colorbar": {
             "outlinewidth": 0,
             "ticks": ""
            },
            "type": "choropleth"
           }
          ],
          "contour": [
           {
            "colorbar": {
             "outlinewidth": 0,
             "ticks": ""
            },
            "colorscale": [
             [
              0,
              "#0d0887"
             ],
             [
              0.1111111111111111,
              "#46039f"
             ],
             [
              0.2222222222222222,
              "#7201a8"
             ],
             [
              0.3333333333333333,
              "#9c179e"
             ],
             [
              0.4444444444444444,
              "#bd3786"
             ],
             [
              0.5555555555555556,
              "#d8576b"
             ],
             [
              0.6666666666666666,
              "#ed7953"
             ],
             [
              0.7777777777777778,
              "#fb9f3a"
             ],
             [
              0.8888888888888888,
              "#fdca26"
             ],
             [
              1,
              "#f0f921"
             ]
            ],
            "type": "contour"
           }
          ],
          "contourcarpet": [
           {
            "colorbar": {
             "outlinewidth": 0,
             "ticks": ""
            },
            "type": "contourcarpet"
           }
          ],
          "heatmap": [
           {
            "colorbar": {
             "outlinewidth": 0,
             "ticks": ""
            },
            "colorscale": [
             [
              0,
              "#0d0887"
             ],
             [
              0.1111111111111111,
              "#46039f"
             ],
             [
              0.2222222222222222,
              "#7201a8"
             ],
             [
              0.3333333333333333,
              "#9c179e"
             ],
             [
              0.4444444444444444,
              "#bd3786"
             ],
             [
              0.5555555555555556,
              "#d8576b"
             ],
             [
              0.6666666666666666,
              "#ed7953"
             ],
             [
              0.7777777777777778,
              "#fb9f3a"
             ],
             [
              0.8888888888888888,
              "#fdca26"
             ],
             [
              1,
              "#f0f921"
             ]
            ],
            "type": "heatmap"
           }
          ],
          "heatmapgl": [
           {
            "colorbar": {
             "outlinewidth": 0,
             "ticks": ""
            },
            "colorscale": [
             [
              0,
              "#0d0887"
             ],
             [
              0.1111111111111111,
              "#46039f"
             ],
             [
              0.2222222222222222,
              "#7201a8"
             ],
             [
              0.3333333333333333,
              "#9c179e"
             ],
             [
              0.4444444444444444,
              "#bd3786"
             ],
             [
              0.5555555555555556,
              "#d8576b"
             ],
             [
              0.6666666666666666,
              "#ed7953"
             ],
             [
              0.7777777777777778,
              "#fb9f3a"
             ],
             [
              0.8888888888888888,
              "#fdca26"
             ],
             [
              1,
              "#f0f921"
             ]
            ],
            "type": "heatmapgl"
           }
          ],
          "histogram": [
           {
            "marker": {
             "pattern": {
              "fillmode": "overlay",
              "size": 10,
              "solidity": 0.2
             }
            },
            "type": "histogram"
           }
          ],
          "histogram2d": [
           {
            "colorbar": {
             "outlinewidth": 0,
             "ticks": ""
            },
            "colorscale": [
             [
              0,
              "#0d0887"
             ],
             [
              0.1111111111111111,
              "#46039f"
             ],
             [
              0.2222222222222222,
              "#7201a8"
             ],
             [
              0.3333333333333333,
              "#9c179e"
             ],
             [
              0.4444444444444444,
              "#bd3786"
             ],
             [
              0.5555555555555556,
              "#d8576b"
             ],
             [
              0.6666666666666666,
              "#ed7953"
             ],
             [
              0.7777777777777778,
              "#fb9f3a"
             ],
             [
              0.8888888888888888,
              "#fdca26"
             ],
             [
              1,
              "#f0f921"
             ]
            ],
            "type": "histogram2d"
           }
          ],
          "histogram2dcontour": [
           {
            "colorbar": {
             "outlinewidth": 0,
             "ticks": ""
            },
            "colorscale": [
             [
              0,
              "#0d0887"
             ],
             [
              0.1111111111111111,
              "#46039f"
             ],
             [
              0.2222222222222222,
              "#7201a8"
             ],
             [
              0.3333333333333333,
              "#9c179e"
             ],
             [
              0.4444444444444444,
              "#bd3786"
             ],
             [
              0.5555555555555556,
              "#d8576b"
             ],
             [
              0.6666666666666666,
              "#ed7953"
             ],
             [
              0.7777777777777778,
              "#fb9f3a"
             ],
             [
              0.8888888888888888,
              "#fdca26"
             ],
             [
              1,
              "#f0f921"
             ]
            ],
            "type": "histogram2dcontour"
           }
          ],
          "mesh3d": [
           {
            "colorbar": {
             "outlinewidth": 0,
             "ticks": ""
            },
            "type": "mesh3d"
           }
          ],
          "parcoords": [
           {
            "line": {
             "colorbar": {
              "outlinewidth": 0,
              "ticks": ""
             }
            },
            "type": "parcoords"
           }
          ],
          "pie": [
           {
            "automargin": true,
            "type": "pie"
           }
          ],
          "scatter": [
           {
            "fillpattern": {
             "fillmode": "overlay",
             "size": 10,
             "solidity": 0.2
            },
            "type": "scatter"
           }
          ],
          "scatter3d": [
           {
            "line": {
             "colorbar": {
              "outlinewidth": 0,
              "ticks": ""
             }
            },
            "marker": {
             "colorbar": {
              "outlinewidth": 0,
              "ticks": ""
             }
            },
            "type": "scatter3d"
           }
          ],
          "scattercarpet": [
           {
            "marker": {
             "colorbar": {
              "outlinewidth": 0,
              "ticks": ""
             }
            },
            "type": "scattercarpet"
           }
          ],
          "scattergeo": [
           {
            "marker": {
             "colorbar": {
              "outlinewidth": 0,
              "ticks": ""
             }
            },
            "type": "scattergeo"
           }
          ],
          "scattergl": [
           {
            "marker": {
             "colorbar": {
              "outlinewidth": 0,
              "ticks": ""
             }
            },
            "type": "scattergl"
           }
          ],
          "scattermapbox": [
           {
            "marker": {
             "colorbar": {
              "outlinewidth": 0,
              "ticks": ""
             }
            },
            "type": "scattermapbox"
           }
          ],
          "scatterpolar": [
           {
            "marker": {
             "colorbar": {
              "outlinewidth": 0,
              "ticks": ""
             }
            },
            "type": "scatterpolar"
           }
          ],
          "scatterpolargl": [
           {
            "marker": {
             "colorbar": {
              "outlinewidth": 0,
              "ticks": ""
             }
            },
            "type": "scatterpolargl"
           }
          ],
          "scatterternary": [
           {
            "marker": {
             "colorbar": {
              "outlinewidth": 0,
              "ticks": ""
             }
            },
            "type": "scatterternary"
           }
          ],
          "surface": [
           {
            "colorbar": {
             "outlinewidth": 0,
             "ticks": ""
            },
            "colorscale": [
             [
              0,
              "#0d0887"
             ],
             [
              0.1111111111111111,
              "#46039f"
             ],
             [
              0.2222222222222222,
              "#7201a8"
             ],
             [
              0.3333333333333333,
              "#9c179e"
             ],
             [
              0.4444444444444444,
              "#bd3786"
             ],
             [
              0.5555555555555556,
              "#d8576b"
             ],
             [
              0.6666666666666666,
              "#ed7953"
             ],
             [
              0.7777777777777778,
              "#fb9f3a"
             ],
             [
              0.8888888888888888,
              "#fdca26"
             ],
             [
              1,
              "#f0f921"
             ]
            ],
            "type": "surface"
           }
          ],
          "table": [
           {
            "cells": {
             "fill": {
              "color": "#EBF0F8"
             },
             "line": {
              "color": "white"
             }
            },
            "header": {
             "fill": {
              "color": "#C8D4E3"
             },
             "line": {
              "color": "white"
             }
            },
            "type": "table"
           }
          ]
         },
         "layout": {
          "annotationdefaults": {
           "arrowcolor": "#2a3f5f",
           "arrowhead": 0,
           "arrowwidth": 1
          },
          "autotypenumbers": "strict",
          "coloraxis": {
           "colorbar": {
            "outlinewidth": 0,
            "ticks": ""
           }
          },
          "colorscale": {
           "diverging": [
            [
             0,
             "#8e0152"
            ],
            [
             0.1,
             "#c51b7d"
            ],
            [
             0.2,
             "#de77ae"
            ],
            [
             0.3,
             "#f1b6da"
            ],
            [
             0.4,
             "#fde0ef"
            ],
            [
             0.5,
             "#f7f7f7"
            ],
            [
             0.6,
             "#e6f5d0"
            ],
            [
             0.7,
             "#b8e186"
            ],
            [
             0.8,
             "#7fbc41"
            ],
            [
             0.9,
             "#4d9221"
            ],
            [
             1,
             "#276419"
            ]
           ],
           "sequential": [
            [
             0,
             "#0d0887"
            ],
            [
             0.1111111111111111,
             "#46039f"
            ],
            [
             0.2222222222222222,
             "#7201a8"
            ],
            [
             0.3333333333333333,
             "#9c179e"
            ],
            [
             0.4444444444444444,
             "#bd3786"
            ],
            [
             0.5555555555555556,
             "#d8576b"
            ],
            [
             0.6666666666666666,
             "#ed7953"
            ],
            [
             0.7777777777777778,
             "#fb9f3a"
            ],
            [
             0.8888888888888888,
             "#fdca26"
            ],
            [
             1,
             "#f0f921"
            ]
           ],
           "sequentialminus": [
            [
             0,
             "#0d0887"
            ],
            [
             0.1111111111111111,
             "#46039f"
            ],
            [
             0.2222222222222222,
             "#7201a8"
            ],
            [
             0.3333333333333333,
             "#9c179e"
            ],
            [
             0.4444444444444444,
             "#bd3786"
            ],
            [
             0.5555555555555556,
             "#d8576b"
            ],
            [
             0.6666666666666666,
             "#ed7953"
            ],
            [
             0.7777777777777778,
             "#fb9f3a"
            ],
            [
             0.8888888888888888,
             "#fdca26"
            ],
            [
             1,
             "#f0f921"
            ]
           ]
          },
          "colorway": [
           "#636efa",
           "#EF553B",
           "#00cc96",
           "#ab63fa",
           "#FFA15A",
           "#19d3f3",
           "#FF6692",
           "#B6E880",
           "#FF97FF",
           "#FECB52"
          ],
          "font": {
           "color": "#2a3f5f"
          },
          "geo": {
           "bgcolor": "white",
           "lakecolor": "white",
           "landcolor": "#E5ECF6",
           "showlakes": true,
           "showland": true,
           "subunitcolor": "white"
          },
          "hoverlabel": {
           "align": "left"
          },
          "hovermode": "closest",
          "mapbox": {
           "style": "light"
          },
          "paper_bgcolor": "white",
          "plot_bgcolor": "#E5ECF6",
          "polar": {
           "angularaxis": {
            "gridcolor": "white",
            "linecolor": "white",
            "ticks": ""
           },
           "bgcolor": "#E5ECF6",
           "radialaxis": {
            "gridcolor": "white",
            "linecolor": "white",
            "ticks": ""
           }
          },
          "scene": {
           "xaxis": {
            "backgroundcolor": "#E5ECF6",
            "gridcolor": "white",
            "gridwidth": 2,
            "linecolor": "white",
            "showbackground": true,
            "ticks": "",
            "zerolinecolor": "white"
           },
           "yaxis": {
            "backgroundcolor": "#E5ECF6",
            "gridcolor": "white",
            "gridwidth": 2,
            "linecolor": "white",
            "showbackground": true,
            "ticks": "",
            "zerolinecolor": "white"
           },
           "zaxis": {
            "backgroundcolor": "#E5ECF6",
            "gridcolor": "white",
            "gridwidth": 2,
            "linecolor": "white",
            "showbackground": true,
            "ticks": "",
            "zerolinecolor": "white"
           }
          },
          "shapedefaults": {
           "line": {
            "color": "#2a3f5f"
           }
          },
          "ternary": {
           "aaxis": {
            "gridcolor": "white",
            "linecolor": "white",
            "ticks": ""
           },
           "baxis": {
            "gridcolor": "white",
            "linecolor": "white",
            "ticks": ""
           },
           "bgcolor": "#E5ECF6",
           "caxis": {
            "gridcolor": "white",
            "linecolor": "white",
            "ticks": ""
           }
          },
          "title": {
           "x": 0.05
          },
          "xaxis": {
           "automargin": true,
           "gridcolor": "white",
           "linecolor": "white",
           "ticks": "",
           "title": {
            "standoff": 15
           },
           "zerolinecolor": "white",
           "zerolinewidth": 2
          },
          "yaxis": {
           "automargin": true,
           "gridcolor": "white",
           "linecolor": "white",
           "ticks": "",
           "title": {
            "standoff": 15
           },
           "zerolinecolor": "white",
           "zerolinewidth": 2
          }
         }
        },
        "title": {
         "text": "Average import of motors per country",
         "x": 0.5,
         "xanchor": "center",
         "y": 0.9,
         "yanchor": "top"
        }
       }
      }
     },
     "metadata": {},
     "output_type": "display_data"
    }
   ],
   "source": [
    "#for 1) #for trade value, I have data for each row \n",
    "# visualization the avergae import amount of motors on a map from the time frame 2004 -2021: \n",
    "\n",
    "import_mot_avg = subset_import_mot.groupby([\"Reporter\"])[\"Trade Value\"].mean().reset_index()\n",
    "print (import_mot_avg)\n",
    "\n",
    "map_import = px.choropleth(\n",
    "    import_mot_avg,                                 # dataframe as argument\n",
    "    locations=\"Reporter\",                       # column name with location\n",
    "    locationmode=\"country names\",                   # location method\n",
    "    color=\"Trade Value\",                       # color countries with altruism value\n",
    "    color_continuous_scale=px.colors.sequential.Plasma,  \n",
    ")\n",
    "map_import.update_layout( \n",
    "    title={                                # Add a title, centered on top\n",
    "        'text': \"Average import of motors per country\",\n",
    "        'y':0.9,\n",
    "        'x':0.5,\n",
    "        'xanchor': 'center',\n",
    "        'yanchor': 'top'})\n",
    "map_import.show()\n"
   ]
  },
  {
   "cell_type": "code",
   "execution_count": 20,
   "metadata": {},
   "outputs": [
    {
     "name": "stdout",
     "output_type": "stream",
     "text": [
      "         Reporter   Trade Value\n",
      "0           China  2.561955e+08\n",
      "1  European Union  1.058904e+08\n",
      "2           Japan  1.502647e+08\n",
      "3             USA  1.763245e+07\n"
     ]
    },
    {
     "data": {
      "application/vnd.plotly.v1+json": {
       "config": {
        "plotlyServerURL": "https://plot.ly"
       },
       "data": [
        {
         "coloraxis": "coloraxis",
         "geo": "geo",
         "hovertemplate": "Reporter=%{location}<br>Trade Value=%{z}<extra></extra>",
         "locationmode": "country names",
         "locations": [
          "China",
          "European Union",
          "Japan",
          "USA"
         ],
         "name": "",
         "type": "choropleth",
         "z": [
          256195496.41666666,
          105890357.2586207,
          150264677.19444445,
          17632451.75
         ]
        }
       ],
       "layout": {
        "coloraxis": {
         "colorbar": {
          "title": {
           "text": "Trade Value"
          }
         },
         "colorscale": [
          [
           0,
           "#0d0887"
          ],
          [
           0.1111111111111111,
           "#46039f"
          ],
          [
           0.2222222222222222,
           "#7201a8"
          ],
          [
           0.3333333333333333,
           "#9c179e"
          ],
          [
           0.4444444444444444,
           "#bd3786"
          ],
          [
           0.5555555555555556,
           "#d8576b"
          ],
          [
           0.6666666666666666,
           "#ed7953"
          ],
          [
           0.7777777777777778,
           "#fb9f3a"
          ],
          [
           0.8888888888888888,
           "#fdca26"
          ],
          [
           1,
           "#f0f921"
          ]
         ]
        },
        "geo": {
         "center": {},
         "domain": {
          "x": [
           0,
           1
          ],
          "y": [
           0,
           1
          ]
         }
        },
        "legend": {
         "tracegroupgap": 0
        },
        "margin": {
         "t": 60
        },
        "template": {
         "data": {
          "bar": [
           {
            "error_x": {
             "color": "#2a3f5f"
            },
            "error_y": {
             "color": "#2a3f5f"
            },
            "marker": {
             "line": {
              "color": "#E5ECF6",
              "width": 0.5
             },
             "pattern": {
              "fillmode": "overlay",
              "size": 10,
              "solidity": 0.2
             }
            },
            "type": "bar"
           }
          ],
          "barpolar": [
           {
            "marker": {
             "line": {
              "color": "#E5ECF6",
              "width": 0.5
             },
             "pattern": {
              "fillmode": "overlay",
              "size": 10,
              "solidity": 0.2
             }
            },
            "type": "barpolar"
           }
          ],
          "carpet": [
           {
            "aaxis": {
             "endlinecolor": "#2a3f5f",
             "gridcolor": "white",
             "linecolor": "white",
             "minorgridcolor": "white",
             "startlinecolor": "#2a3f5f"
            },
            "baxis": {
             "endlinecolor": "#2a3f5f",
             "gridcolor": "white",
             "linecolor": "white",
             "minorgridcolor": "white",
             "startlinecolor": "#2a3f5f"
            },
            "type": "carpet"
           }
          ],
          "choropleth": [
           {
            "colorbar": {
             "outlinewidth": 0,
             "ticks": ""
            },
            "type": "choropleth"
           }
          ],
          "contour": [
           {
            "colorbar": {
             "outlinewidth": 0,
             "ticks": ""
            },
            "colorscale": [
             [
              0,
              "#0d0887"
             ],
             [
              0.1111111111111111,
              "#46039f"
             ],
             [
              0.2222222222222222,
              "#7201a8"
             ],
             [
              0.3333333333333333,
              "#9c179e"
             ],
             [
              0.4444444444444444,
              "#bd3786"
             ],
             [
              0.5555555555555556,
              "#d8576b"
             ],
             [
              0.6666666666666666,
              "#ed7953"
             ],
             [
              0.7777777777777778,
              "#fb9f3a"
             ],
             [
              0.8888888888888888,
              "#fdca26"
             ],
             [
              1,
              "#f0f921"
             ]
            ],
            "type": "contour"
           }
          ],
          "contourcarpet": [
           {
            "colorbar": {
             "outlinewidth": 0,
             "ticks": ""
            },
            "type": "contourcarpet"
           }
          ],
          "heatmap": [
           {
            "colorbar": {
             "outlinewidth": 0,
             "ticks": ""
            },
            "colorscale": [
             [
              0,
              "#0d0887"
             ],
             [
              0.1111111111111111,
              "#46039f"
             ],
             [
              0.2222222222222222,
              "#7201a8"
             ],
             [
              0.3333333333333333,
              "#9c179e"
             ],
             [
              0.4444444444444444,
              "#bd3786"
             ],
             [
              0.5555555555555556,
              "#d8576b"
             ],
             [
              0.6666666666666666,
              "#ed7953"
             ],
             [
              0.7777777777777778,
              "#fb9f3a"
             ],
             [
              0.8888888888888888,
              "#fdca26"
             ],
             [
              1,
              "#f0f921"
             ]
            ],
            "type": "heatmap"
           }
          ],
          "heatmapgl": [
           {
            "colorbar": {
             "outlinewidth": 0,
             "ticks": ""
            },
            "colorscale": [
             [
              0,
              "#0d0887"
             ],
             [
              0.1111111111111111,
              "#46039f"
             ],
             [
              0.2222222222222222,
              "#7201a8"
             ],
             [
              0.3333333333333333,
              "#9c179e"
             ],
             [
              0.4444444444444444,
              "#bd3786"
             ],
             [
              0.5555555555555556,
              "#d8576b"
             ],
             [
              0.6666666666666666,
              "#ed7953"
             ],
             [
              0.7777777777777778,
              "#fb9f3a"
             ],
             [
              0.8888888888888888,
              "#fdca26"
             ],
             [
              1,
              "#f0f921"
             ]
            ],
            "type": "heatmapgl"
           }
          ],
          "histogram": [
           {
            "marker": {
             "pattern": {
              "fillmode": "overlay",
              "size": 10,
              "solidity": 0.2
             }
            },
            "type": "histogram"
           }
          ],
          "histogram2d": [
           {
            "colorbar": {
             "outlinewidth": 0,
             "ticks": ""
            },
            "colorscale": [
             [
              0,
              "#0d0887"
             ],
             [
              0.1111111111111111,
              "#46039f"
             ],
             [
              0.2222222222222222,
              "#7201a8"
             ],
             [
              0.3333333333333333,
              "#9c179e"
             ],
             [
              0.4444444444444444,
              "#bd3786"
             ],
             [
              0.5555555555555556,
              "#d8576b"
             ],
             [
              0.6666666666666666,
              "#ed7953"
             ],
             [
              0.7777777777777778,
              "#fb9f3a"
             ],
             [
              0.8888888888888888,
              "#fdca26"
             ],
             [
              1,
              "#f0f921"
             ]
            ],
            "type": "histogram2d"
           }
          ],
          "histogram2dcontour": [
           {
            "colorbar": {
             "outlinewidth": 0,
             "ticks": ""
            },
            "colorscale": [
             [
              0,
              "#0d0887"
             ],
             [
              0.1111111111111111,
              "#46039f"
             ],
             [
              0.2222222222222222,
              "#7201a8"
             ],
             [
              0.3333333333333333,
              "#9c179e"
             ],
             [
              0.4444444444444444,
              "#bd3786"
             ],
             [
              0.5555555555555556,
              "#d8576b"
             ],
             [
              0.6666666666666666,
              "#ed7953"
             ],
             [
              0.7777777777777778,
              "#fb9f3a"
             ],
             [
              0.8888888888888888,
              "#fdca26"
             ],
             [
              1,
              "#f0f921"
             ]
            ],
            "type": "histogram2dcontour"
           }
          ],
          "mesh3d": [
           {
            "colorbar": {
             "outlinewidth": 0,
             "ticks": ""
            },
            "type": "mesh3d"
           }
          ],
          "parcoords": [
           {
            "line": {
             "colorbar": {
              "outlinewidth": 0,
              "ticks": ""
             }
            },
            "type": "parcoords"
           }
          ],
          "pie": [
           {
            "automargin": true,
            "type": "pie"
           }
          ],
          "scatter": [
           {
            "fillpattern": {
             "fillmode": "overlay",
             "size": 10,
             "solidity": 0.2
            },
            "type": "scatter"
           }
          ],
          "scatter3d": [
           {
            "line": {
             "colorbar": {
              "outlinewidth": 0,
              "ticks": ""
             }
            },
            "marker": {
             "colorbar": {
              "outlinewidth": 0,
              "ticks": ""
             }
            },
            "type": "scatter3d"
           }
          ],
          "scattercarpet": [
           {
            "marker": {
             "colorbar": {
              "outlinewidth": 0,
              "ticks": ""
             }
            },
            "type": "scattercarpet"
           }
          ],
          "scattergeo": [
           {
            "marker": {
             "colorbar": {
              "outlinewidth": 0,
              "ticks": ""
             }
            },
            "type": "scattergeo"
           }
          ],
          "scattergl": [
           {
            "marker": {
             "colorbar": {
              "outlinewidth": 0,
              "ticks": ""
             }
            },
            "type": "scattergl"
           }
          ],
          "scattermapbox": [
           {
            "marker": {
             "colorbar": {
              "outlinewidth": 0,
              "ticks": ""
             }
            },
            "type": "scattermapbox"
           }
          ],
          "scatterpolar": [
           {
            "marker": {
             "colorbar": {
              "outlinewidth": 0,
              "ticks": ""
             }
            },
            "type": "scatterpolar"
           }
          ],
          "scatterpolargl": [
           {
            "marker": {
             "colorbar": {
              "outlinewidth": 0,
              "ticks": ""
             }
            },
            "type": "scatterpolargl"
           }
          ],
          "scatterternary": [
           {
            "marker": {
             "colorbar": {
              "outlinewidth": 0,
              "ticks": ""
             }
            },
            "type": "scatterternary"
           }
          ],
          "surface": [
           {
            "colorbar": {
             "outlinewidth": 0,
             "ticks": ""
            },
            "colorscale": [
             [
              0,
              "#0d0887"
             ],
             [
              0.1111111111111111,
              "#46039f"
             ],
             [
              0.2222222222222222,
              "#7201a8"
             ],
             [
              0.3333333333333333,
              "#9c179e"
             ],
             [
              0.4444444444444444,
              "#bd3786"
             ],
             [
              0.5555555555555556,
              "#d8576b"
             ],
             [
              0.6666666666666666,
              "#ed7953"
             ],
             [
              0.7777777777777778,
              "#fb9f3a"
             ],
             [
              0.8888888888888888,
              "#fdca26"
             ],
             [
              1,
              "#f0f921"
             ]
            ],
            "type": "surface"
           }
          ],
          "table": [
           {
            "cells": {
             "fill": {
              "color": "#EBF0F8"
             },
             "line": {
              "color": "white"
             }
            },
            "header": {
             "fill": {
              "color": "#C8D4E3"
             },
             "line": {
              "color": "white"
             }
            },
            "type": "table"
           }
          ]
         },
         "layout": {
          "annotationdefaults": {
           "arrowcolor": "#2a3f5f",
           "arrowhead": 0,
           "arrowwidth": 1
          },
          "autotypenumbers": "strict",
          "coloraxis": {
           "colorbar": {
            "outlinewidth": 0,
            "ticks": ""
           }
          },
          "colorscale": {
           "diverging": [
            [
             0,
             "#8e0152"
            ],
            [
             0.1,
             "#c51b7d"
            ],
            [
             0.2,
             "#de77ae"
            ],
            [
             0.3,
             "#f1b6da"
            ],
            [
             0.4,
             "#fde0ef"
            ],
            [
             0.5,
             "#f7f7f7"
            ],
            [
             0.6,
             "#e6f5d0"
            ],
            [
             0.7,
             "#b8e186"
            ],
            [
             0.8,
             "#7fbc41"
            ],
            [
             0.9,
             "#4d9221"
            ],
            [
             1,
             "#276419"
            ]
           ],
           "sequential": [
            [
             0,
             "#0d0887"
            ],
            [
             0.1111111111111111,
             "#46039f"
            ],
            [
             0.2222222222222222,
             "#7201a8"
            ],
            [
             0.3333333333333333,
             "#9c179e"
            ],
            [
             0.4444444444444444,
             "#bd3786"
            ],
            [
             0.5555555555555556,
             "#d8576b"
            ],
            [
             0.6666666666666666,
             "#ed7953"
            ],
            [
             0.7777777777777778,
             "#fb9f3a"
            ],
            [
             0.8888888888888888,
             "#fdca26"
            ],
            [
             1,
             "#f0f921"
            ]
           ],
           "sequentialminus": [
            [
             0,
             "#0d0887"
            ],
            [
             0.1111111111111111,
             "#46039f"
            ],
            [
             0.2222222222222222,
             "#7201a8"
            ],
            [
             0.3333333333333333,
             "#9c179e"
            ],
            [
             0.4444444444444444,
             "#bd3786"
            ],
            [
             0.5555555555555556,
             "#d8576b"
            ],
            [
             0.6666666666666666,
             "#ed7953"
            ],
            [
             0.7777777777777778,
             "#fb9f3a"
            ],
            [
             0.8888888888888888,
             "#fdca26"
            ],
            [
             1,
             "#f0f921"
            ]
           ]
          },
          "colorway": [
           "#636efa",
           "#EF553B",
           "#00cc96",
           "#ab63fa",
           "#FFA15A",
           "#19d3f3",
           "#FF6692",
           "#B6E880",
           "#FF97FF",
           "#FECB52"
          ],
          "font": {
           "color": "#2a3f5f"
          },
          "geo": {
           "bgcolor": "white",
           "lakecolor": "white",
           "landcolor": "#E5ECF6",
           "showlakes": true,
           "showland": true,
           "subunitcolor": "white"
          },
          "hoverlabel": {
           "align": "left"
          },
          "hovermode": "closest",
          "mapbox": {
           "style": "light"
          },
          "paper_bgcolor": "white",
          "plot_bgcolor": "#E5ECF6",
          "polar": {
           "angularaxis": {
            "gridcolor": "white",
            "linecolor": "white",
            "ticks": ""
           },
           "bgcolor": "#E5ECF6",
           "radialaxis": {
            "gridcolor": "white",
            "linecolor": "white",
            "ticks": ""
           }
          },
          "scene": {
           "xaxis": {
            "backgroundcolor": "#E5ECF6",
            "gridcolor": "white",
            "gridwidth": 2,
            "linecolor": "white",
            "showbackground": true,
            "ticks": "",
            "zerolinecolor": "white"
           },
           "yaxis": {
            "backgroundcolor": "#E5ECF6",
            "gridcolor": "white",
            "gridwidth": 2,
            "linecolor": "white",
            "showbackground": true,
            "ticks": "",
            "zerolinecolor": "white"
           },
           "zaxis": {
            "backgroundcolor": "#E5ECF6",
            "gridcolor": "white",
            "gridwidth": 2,
            "linecolor": "white",
            "showbackground": true,
            "ticks": "",
            "zerolinecolor": "white"
           }
          },
          "shapedefaults": {
           "line": {
            "color": "#2a3f5f"
           }
          },
          "ternary": {
           "aaxis": {
            "gridcolor": "white",
            "linecolor": "white",
            "ticks": ""
           },
           "baxis": {
            "gridcolor": "white",
            "linecolor": "white",
            "ticks": ""
           },
           "bgcolor": "#E5ECF6",
           "caxis": {
            "gridcolor": "white",
            "linecolor": "white",
            "ticks": ""
           }
          },
          "title": {
           "x": 0.05
          },
          "xaxis": {
           "automargin": true,
           "gridcolor": "white",
           "linecolor": "white",
           "ticks": "",
           "title": {
            "standoff": 15
           },
           "zerolinecolor": "white",
           "zerolinewidth": 2
          },
          "yaxis": {
           "automargin": true,
           "gridcolor": "white",
           "linecolor": "white",
           "ticks": "",
           "title": {
            "standoff": 15
           },
           "zerolinecolor": "white",
           "zerolinewidth": 2
          }
         }
        },
        "title": {
         "text": "Average export of motors per country",
         "x": 0.5,
         "xanchor": "center",
         "y": 0.9,
         "yanchor": "top"
        }
       }
      }
     },
     "metadata": {},
     "output_type": "display_data"
    }
   ],
   "source": [
    "#for 1) for trade value, I have data for each row\n",
    "# visualization the average export amount of motors on a map from the time frame 2004 -2021: \n",
    "\n",
    "export_mot_avg = subset_export_mot.groupby([\"Reporter\"])[\"Trade Value\"].mean().reset_index()\n",
    "print (export_mot_avg)\n",
    "\n",
    "map_export = px.choropleth(\n",
    "    export_mot_avg,                                 # dataframe as argument\n",
    "    locations=\"Reporter\",                       # column name with location\n",
    "    locationmode=\"country names\",                   # location method\n",
    "    color=\"Trade Value\",                       # color countries with altruism value\n",
    "    color_continuous_scale=px.colors.sequential.Plasma,  \n",
    ")\n",
    "map_export.update_layout( \n",
    "    title={                                # Add a title, centered on top\n",
    "        'text': \"Average export of motors per country\",\n",
    "        'y':0.9,\n",
    "        'x':0.5,\n",
    "        'xanchor': 'center',\n",
    "        'yanchor': 'top'})\n",
    "map_export.show()"
   ]
  },
  {
   "cell_type": "markdown",
   "metadata": {},
   "source": [
    "Question 2) How does the total trade value change over time for imports and exports to China? \n",
    "- In order to display the timeframe  I will show a line chart from 2004 to2021. \n",
    "- After looking at the total trade value, it will be interesting to look at the graph for each main playerr to understand individual import and export behavior of the main players"
   ]
  },
  {
   "cell_type": "code",
   "execution_count": 21,
   "metadata": {},
   "outputs": [
    {
     "data": {
      "image/png": "[encoded data removed]",
      "text/plain": [
       "<Figure size 640x480 with 1 Axes>"
      ]
     },
     "metadata": {},
     "output_type": "display_data"
    }
   ],
   "source": [
    "#1) change of import over time \n",
    "line_import_mot = subset_import_mot.groupby([\"Period\"])[\"Trade Value\"].mean().reset_index()\n",
    "\n",
    "\n",
    "plt.plot(line_import_mot[\"Period\"], line_import_mot[\"Trade Value\"], label = \"Total Import Development (EU, China, Japan, USA)\")\n",
    "plt.xlabel(\"Year\", fontsize=12)  #adding the x label\n",
    "plt.xticks(np.arange(2004,2022,2))\n",
    "plt.ylabel(\"Import Trade Value in hundred million ($)\", fontsize=12)  #adding the y label\n",
    "plt.legend()\n",
    "plt.show()\n",
    "\n"
   ]
  },
  {
   "cell_type": "code",
   "execution_count": 22,
   "metadata": {},
   "outputs": [
    {
     "data": {
      "image/png": "[encoded data removed]",
      "text/plain": [
       "<Figure size 640x480 with 1 Axes>"
      ]
     },
     "metadata": {},
     "output_type": "display_data"
    }
   ],
   "source": [
    "#1) change of export over time \n",
    "line_export_mot = subset_export_mot.groupby([\"Period\"])[\"Trade Value\"].mean().reset_index()\n",
    "\n",
    "\n",
    "plt.plot(line_export_mot[\"Period\"], line_export_mot[\"Trade Value\"], label = \"Total Export Development (EU, China, Japan, USA)\")\n",
    "plt.xlabel(\"Year\", fontsize=12)  #adding the x label\n",
    "plt.xticks(np.arange(2004,2022,2))\n",
    "plt.ylabel(\"Export Trade Value in hundred million ($)\", fontsize=12)  #adding the y label\n",
    "plt.legend()\n",
    "plt.show()\n"
   ]
  },
  {
   "cell_type": "code",
   "execution_count": 23,
   "metadata": {},
   "outputs": [
    {
     "data": {
      "image/png": "[encoded data removed]",
      "text/plain": [
       "<Figure size 640x480 with 1 Axes>"
      ]
     },
     "metadata": {},
     "output_type": "display_data"
    }
   ],
   "source": [
    "#1) change of import and export over time \n",
    "line_import_mot_cn = subset_import_mot.loc[(subset_import_mot[\"Reporter\"] == \"China\")]\n",
    "line_import_mot_usa = subset_import_mot.loc[(subset_import_mot[\"Reporter\"] == \"USA\")]\n",
    "line_import_mot_eu = subset_import_mot.loc[(subset_import_mot[\"Reporter\"] == \"European Union\")]\n",
    "line_import_mot_jp = subset_import_mot.loc[(subset_import_mot[\"Reporter\"] == \"Japan\")]\n",
    "\n",
    "line_import_mot_cn = line_import_mot_cn.groupby([\"Period\"])[\"Trade Value\"].mean().reset_index()\n",
    "line_import_mot_usa = line_import_mot_usa.groupby([\"Period\"])[\"Trade Value\"].mean().reset_index()\n",
    "line_import_mot_eu = line_import_mot_eu.groupby([\"Period\"])[\"Trade Value\"].mean().reset_index()\n",
    "line_import_mot_jp = line_import_mot_jp.groupby([\"Period\"])[\"Trade Value\"].mean().reset_index()\n",
    "\n",
    "plt.plot(line_import_mot_cn[\"Period\"], line_import_mot_cn[\"Trade Value\"], label = \"Import Trade Value (China)\")\n",
    "plt.plot(line_import_mot_usa[\"Period\"], line_import_mot_usa[\"Trade Value\"], label = \"Import Trade Value (USA)\")\n",
    "plt.plot(line_import_mot_eu[\"Period\"], line_import_mot_eu[\"Trade Value\"], label = \"Import Trade Value (EU)\")\n",
    "plt.plot(line_import_mot_jp[\"Period\"], line_import_mot_jp[\"Trade Value\"], label = \"Import Trade Value (Japan)\")\n",
    "\n",
    "plt.xlabel(\"Year\", fontsize=12)  #adding the x label\n",
    "plt.xticks(np.arange(2004,2022,2))\n",
    "plt.ylabel(\"Import Trade Value in hundred million dollars ($)\", fontsize=12)  #adding the y label\n",
    "plt.legend()\n",
    "plt.show()"
   ]
  },
  {
   "cell_type": "code",
   "execution_count": 24,
   "metadata": {},
   "outputs": [
    {
     "data": {
      "image/png": "[encoded data removed]",
      "text/plain": [
       "<Figure size 640x480 with 1 Axes>"
      ]
     },
     "metadata": {},
     "output_type": "display_data"
    }
   ],
   "source": [
    "#Eport analyses\n",
    "\n",
    "line_export_mot_cn = subset_export_mot.loc[(subset_export_mot[\"Reporter\"] == \"China\")]\n",
    "line_export_mot_usa = subset_export_mot.loc[(subset_export_mot[\"Reporter\"] == \"USA\")]\n",
    "line_export_mot_eu = subset_export_mot.loc[(subset_export_mot[\"Reporter\"] == \"European Union\")]\n",
    "line_export_mot_jp = subset_export_mot.loc[(subset_export_mot[\"Reporter\"] == \"Japan\")]\n",
    "\n",
    "line_export_mot_cn = line_export_mot_cn.groupby([\"Period\"])[\"Trade Value\"].mean().reset_index()\n",
    "line_export_mot_usa = line_export_mot_usa.groupby([\"Period\"])[\"Trade Value\"].mean().reset_index()\n",
    "line_export_mot_eu = line_export_mot_eu.groupby([\"Period\"])[\"Trade Value\"].mean().reset_index()\n",
    "line_export_mot_jp = line_export_mot_jp.groupby([\"Period\"])[\"Trade Value\"].mean().reset_index()\n",
    "\n",
    "plt.plot(line_export_mot_cn[\"Period\"], line_export_mot_cn[\"Trade Value\"], label = \"Export Trade Value (China)\")\n",
    "plt.plot(line_export_mot_usa[\"Period\"], line_export_mot_usa[\"Trade Value\"], label = \"Export Trade Value (USA)\")\n",
    "plt.plot(line_export_mot_eu[\"Period\"], line_export_mot_eu[\"Trade Value\"], label = \"Export Trade Value (EU)\")\n",
    "plt.plot(line_export_mot_jp[\"Period\"], line_export_mot_jp[\"Trade Value\"], label = \"Export Trade Value (Japan)\")\n",
    "\n",
    "plt.xlabel(\"Year\", fontsize=12)  #adding the x label\n",
    "plt.xticks(np.arange(2004,2022,2))\n",
    "plt.ylabel(\"Export Trade Value in hundred million dollars ($)\", fontsize=12)  #adding the y label\n",
    "plt.legend()\n",
    "plt.show()"
   ]
  },
  {
   "cell_type": "markdown",
   "metadata": {},
   "source": [
    "Question 3) How does the quantity change over time for imports and exports from the main global players?\n",
    "- in order to illustrate, I will as above create a line graph. I am expecting a similar behavior as the line graph for trade value, since the trade is just expressed in another instrument. "
   ]
  },
  {
   "cell_type": "code",
   "execution_count": 25,
   "metadata": {},
   "outputs": [
    {
     "name": "stdout",
     "output_type": "stream",
     "text": [
      "Japan    28\n",
      "China     6\n",
      "USA       2\n",
      "Name: Reporter, dtype: int64\n",
      "Japan    26\n",
      "China     9\n",
      "USA       2\n",
      "Name: Reporter, dtype: int64\n",
      "     Period Trade Flow        Reporter            Partner  Commodity Code  \\\n",
      "3      2004          X  European Union              China          850131   \n",
      "5      2004          X  European Union              Japan          850131   \n",
      "7      2004          X  European Union  Other Europe, nes          850131   \n",
      "9      2004          X  European Union                USA          850131   \n",
      "14     2004          X           China              Japan          850131   \n",
      "..      ...        ...             ...                ...             ...   \n",
      "475    2021          X  European Union                USA          850131   \n",
      "480    2021          X           China              Japan          850131   \n",
      "482    2021          X           China                USA          850131   \n",
      "492    2021          X             USA              China          850131   \n",
      "494    2021          X             USA              Japan          850131   \n",
      "\n",
      "     Trade Value         Qty  \n",
      "3       30004437   1996996.0  \n",
      "5       31489538   1613865.0  \n",
      "7           4141       118.0  \n",
      "9      117988923   4142191.0  \n",
      "14     109406651  10562511.0  \n",
      "..           ...         ...  \n",
      "475    266705968   7493630.0  \n",
      "480    263005260  21178430.0  \n",
      "482    524707386  44469343.0  \n",
      "492     48006998    849494.0  \n",
      "494     16306010    179244.0  \n",
      "\n",
      "[130 rows x 7 columns]\n",
      "     Period Trade Flow        Reporter            Partner  Commodity Code  \\\n",
      "2      2004          M  European Union              China          850131   \n",
      "4      2004          M  European Union              Japan          850131   \n",
      "6      2004          M  European Union  Other Europe, nes          850131   \n",
      "8      2004          M  European Union                USA          850131   \n",
      "12     2004          M           China              China          850131   \n",
      "..      ...        ...             ...                ...             ...   \n",
      "478    2021          M           China              China          850131   \n",
      "479    2021          M           China              Japan          850131   \n",
      "481    2021          M           China                USA          850131   \n",
      "491    2021          M             USA              China          850131   \n",
      "493    2021          M             USA              Japan          850131   \n",
      "\n",
      "     Trade Value         Qty  \n",
      "2      128609541  84372230.0  \n",
      "4      106810031   5121194.0  \n",
      "6          18393      1082.0  \n",
      "8       74678790   2017715.0  \n",
      "12      25598844   9777714.0  \n",
      "..           ...         ...  \n",
      "478     44451922   8833423.0  \n",
      "479    441930268  10294215.0  \n",
      "481     38809497    524910.0  \n",
      "491    465145104  37901474.0  \n",
      "493    422876475  14925447.0  \n",
      "\n",
      "[148 rows x 7 columns]\n"
     ]
    }
   ],
   "source": [
    "#Behavior of quantities -> we see NA, therefore must look at the countries first how much NAs we have\n",
    "print(subset_export_mot[(subset_export_mot[\"Qty\"].isna())].Reporter.value_counts())\n",
    "print(subset_import_mot[(subset_import_mot[\"Qty\"].isna())].Reporter.value_counts())\n",
    "\n",
    "subset_export_mot_clean = subset_export_mot.dropna(subset=[\"Qty\"]) #dropping NAN for missing Qty on Exportset\n",
    "subset_import_mot_clean = subset_import_mot.dropna(subset=[\"Qty\"]) #dropping NAN for missing Qty on importset\n",
    "\n",
    "print(subset_export_mot_clean)\n",
    "print(subset_import_mot_clean)"
   ]
  },
  {
   "cell_type": "markdown",
   "metadata": {},
   "source": [
    "For EXPORT: Now our data set has now only 148 rows left\n",
    "- Japan misses 28 rows of  data\n",
    "- China 6\n",
    "- USA 2\n",
    "\n",
    "For IMPORT: Now our data set has now only 148 rows left\n",
    "- Japan misses 26 rows of  data\n",
    "- China 9\n",
    "- USA 2\n",
    "\n",
    "Instead of only looking at the trade value in dollars, I was thinking to check the quanitity of motors. However, we are missing data, especially for Japan, which reduces the credibility for intercountry comparisons. Therefore, I will not include this analyses into the final report."
   ]
  },
  {
   "cell_type": "code",
   "execution_count": 26,
   "metadata": {},
   "outputs": [
    {
     "data": {
      "image/png": "[encoded data removed]",
      "text/plain": [
       "<Figure size 640x480 with 1 Axes>"
      ]
     },
     "metadata": {},
     "output_type": "display_data"
    },
    {
     "name": "stdout",
     "output_type": "stream",
     "text": [
      "None\n"
     ]
    },
    {
     "data": {
      "image/png": "[encoded data removed]",
      "text/plain": [
       "<Figure size 640x480 with 1 Axes>"
      ]
     },
     "metadata": {},
     "output_type": "display_data"
    },
    {
     "name": "stdout",
     "output_type": "stream",
     "text": [
      "None\n"
     ]
    }
   ],
   "source": [
    "#Analyses of quantities exported: \n",
    "from matplotlib.ticker import ScalarFormatter, FormatStrFormatter\n",
    "def line_quantity_time (tradeflow,subset,country1, country2,country3,country4, search):\n",
    "    subset_new_c1 = subset.loc[(subset[\"Reporter\"] == country1)]\n",
    "    subset_new_c1 = subset_new_c1.groupby([\"Period\"])[search].mean().reset_index()\n",
    "    plt.plot(subset_new_c1[\"Period\"], subset_new_c1[search], label = (tradeflow,country1))\n",
    "\n",
    "    subset_new_c2 = subset.loc[(subset[\"Reporter\"] == country2)]\n",
    "    subset_new_c2 = subset_new_c2.groupby([\"Period\"])[search].mean().reset_index()\n",
    "    plt.plot(subset_new_c2[\"Period\"], subset_new_c2[search], label = (tradeflow,country2))\n",
    "\n",
    "    subset_new_c3 = subset.loc[(subset[\"Reporter\"] == country3)]\n",
    "    subset_new_c3 = subset_new_c3.groupby([\"Period\"])[search].mean().reset_index()\n",
    "    plt.plot(subset_new_c3[\"Period\"], subset_new_c3[search], label = (tradeflow,country3))\n",
    "\n",
    "    subset_new_c4 = subset.loc[(subset[\"Reporter\"] == country4)]\n",
    "    subset_new_c4 = subset_new_c4.groupby([\"Period\"])[search].mean().reset_index()\n",
    "    plt.plot(subset_new_c4[\"Period\"], subset_new_c4[search], label = (tradeflow,country4))\n",
    "\n",
    "    plt.xlabel(\"Year\", fontsize=12)  #adding the x label\n",
    "    plt.xticks(np.arange(2004,2022,2))\n",
    "    plt.ylabel(\" Trade Value in dollars ($)\", fontsize=12)  #adding the y label\n",
    " #   plt.yticks.set_major_formatter(FixedOrderFormatter(-9))\n",
    "    return plt.show()\n",
    "\n",
    "print (line_quantity_time(\"Export\",subset_export_mot_clean,\"China\",\"USA\",\"European Union\",\"Japan\",\"Qty\"))\n",
    "\n",
    "print (line_quantity_time(\"Import\",subset_import_mot_clean,\"China\",\"USA\",\"European Union\",\"Japan\",\"Qty\"))"
   ]
  },
  {
   "cell_type": "markdown",
   "metadata": {},
   "source": [
    "Question 4) What are China's main stakeholders today? \n",
    "- in order to achieve a deep dive in to Chinese dependencies, I chose a pie chart that illustrates all countries China is importing from and exporting to "
   ]
  },
  {
   "cell_type": "code",
   "execution_count": 42,
   "metadata": {},
   "outputs": [
    {
     "data": {
      "text/plain": [
       "pandas.core.frame.DataFrame"
      ]
     },
     "execution_count": 42,
     "metadata": {},
     "output_type": "execute_result"
    }
   ],
   "source": [
    "url_1 = r\"C:\\Users\\Charlotte Ahrens\\Documents\\Documents\\GitHub\\class_robotics\\China_export&import_data.csv\"\n",
    "data1 = pd.read_csv(url_1)\n",
    "type(data1)"
   ]
  },
  {
   "cell_type": "code",
   "execution_count": 43,
   "metadata": {},
   "outputs": [
    {
     "data": {
      "text/html": [
       "<div>\n",
       "<style scoped>\n",
       "    .dataframe tbody tr th:only-of-type {\n",
       "        vertical-align: middle;\n",
       "    }\n",
       "\n",
       "    .dataframe tbody tr th {\n",
       "        vertical-align: top;\n",
       "    }\n",
       "\n",
       "    .dataframe thead th {\n",
       "        text-align: right;\n",
       "    }\n",
       "</style>\n",
       "<table border=\"1\" class=\"dataframe\">\n",
       "  <thead>\n",
       "    <tr style=\"text-align: right;\">\n",
       "      <th></th>\n",
       "      <th>Period</th>\n",
       "      <th>Trade Flow</th>\n",
       "      <th>Reporter</th>\n",
       "      <th>Partner</th>\n",
       "      <th>2nd Partner</th>\n",
       "      <th>Customs Desc</th>\n",
       "      <th>Transport Mode</th>\n",
       "      <th>Commodity Code</th>\n",
       "      <th>Trade Value</th>\n",
       "      <th>Net Weight(kg)</th>\n",
       "      <th>Gross Weight</th>\n",
       "      <th>Qty Unit</th>\n",
       "      <th>Qty</th>\n",
       "      <th>Alternate Quantity unit</th>\n",
       "      <th>Alternate Quantity</th>\n",
       "    </tr>\n",
       "  </thead>\n",
       "  <tbody>\n",
       "    <tr>\n",
       "      <th>0</th>\n",
       "      <td>2021</td>\n",
       "      <td>X</td>\n",
       "      <td>China</td>\n",
       "      <td>Afghanistan</td>\n",
       "      <td>World</td>\n",
       "      <td>TOTAL CPC</td>\n",
       "      <td>TOTAL MOT</td>\n",
       "      <td>850131</td>\n",
       "      <td>144498</td>\n",
       "      <td>9542</td>\n",
       "      <td>NaN</td>\n",
       "      <td>u</td>\n",
       "      <td>7100</td>\n",
       "      <td>u</td>\n",
       "      <td>7100</td>\n",
       "    </tr>\n",
       "    <tr>\n",
       "      <th>1</th>\n",
       "      <td>2021</td>\n",
       "      <td>X</td>\n",
       "      <td>China</td>\n",
       "      <td>Albania</td>\n",
       "      <td>World</td>\n",
       "      <td>TOTAL CPC</td>\n",
       "      <td>TOTAL MOT</td>\n",
       "      <td>850131</td>\n",
       "      <td>128885</td>\n",
       "      <td>8482</td>\n",
       "      <td>NaN</td>\n",
       "      <td>u</td>\n",
       "      <td>765</td>\n",
       "      <td>u</td>\n",
       "      <td>765</td>\n",
       "    </tr>\n",
       "    <tr>\n",
       "      <th>2</th>\n",
       "      <td>2021</td>\n",
       "      <td>X</td>\n",
       "      <td>China</td>\n",
       "      <td>Algeria</td>\n",
       "      <td>World</td>\n",
       "      <td>TOTAL CPC</td>\n",
       "      <td>TOTAL MOT</td>\n",
       "      <td>850131</td>\n",
       "      <td>973904</td>\n",
       "      <td>118862</td>\n",
       "      <td>NaN</td>\n",
       "      <td>u</td>\n",
       "      <td>117287</td>\n",
       "      <td>u</td>\n",
       "      <td>117287</td>\n",
       "    </tr>\n",
       "    <tr>\n",
       "      <th>3</th>\n",
       "      <td>2021</td>\n",
       "      <td>X</td>\n",
       "      <td>China</td>\n",
       "      <td>Andorra</td>\n",
       "      <td>World</td>\n",
       "      <td>TOTAL CPC</td>\n",
       "      <td>TOTAL MOT</td>\n",
       "      <td>850131</td>\n",
       "      <td>214532</td>\n",
       "      <td>787</td>\n",
       "      <td>NaN</td>\n",
       "      <td>u</td>\n",
       "      <td>390</td>\n",
       "      <td>u</td>\n",
       "      <td>390</td>\n",
       "    </tr>\n",
       "    <tr>\n",
       "      <th>4</th>\n",
       "      <td>2021</td>\n",
       "      <td>X</td>\n",
       "      <td>China</td>\n",
       "      <td>Angola</td>\n",
       "      <td>World</td>\n",
       "      <td>TOTAL CPC</td>\n",
       "      <td>TOTAL MOT</td>\n",
       "      <td>850131</td>\n",
       "      <td>655015</td>\n",
       "      <td>113918</td>\n",
       "      <td>NaN</td>\n",
       "      <td>u</td>\n",
       "      <td>14524</td>\n",
       "      <td>u</td>\n",
       "      <td>14524</td>\n",
       "    </tr>\n",
       "    <tr>\n",
       "      <th>...</th>\n",
       "      <td>...</td>\n",
       "      <td>...</td>\n",
       "      <td>...</td>\n",
       "      <td>...</td>\n",
       "      <td>...</td>\n",
       "      <td>...</td>\n",
       "      <td>...</td>\n",
       "      <td>...</td>\n",
       "      <td>...</td>\n",
       "      <td>...</td>\n",
       "      <td>...</td>\n",
       "      <td>...</td>\n",
       "      <td>...</td>\n",
       "      <td>...</td>\n",
       "      <td>...</td>\n",
       "    </tr>\n",
       "    <tr>\n",
       "      <th>248</th>\n",
       "      <td>2021</td>\n",
       "      <td>M</td>\n",
       "      <td>China</td>\n",
       "      <td>Ukraine</td>\n",
       "      <td>World</td>\n",
       "      <td>TOTAL CPC</td>\n",
       "      <td>TOTAL MOT</td>\n",
       "      <td>850131</td>\n",
       "      <td>5614</td>\n",
       "      <td>165</td>\n",
       "      <td>NaN</td>\n",
       "      <td>u</td>\n",
       "      <td>100</td>\n",
       "      <td>u</td>\n",
       "      <td>100</td>\n",
       "    </tr>\n",
       "    <tr>\n",
       "      <th>249</th>\n",
       "      <td>2021</td>\n",
       "      <td>M</td>\n",
       "      <td>China</td>\n",
       "      <td>North Macedonia</td>\n",
       "      <td>World</td>\n",
       "      <td>TOTAL CPC</td>\n",
       "      <td>TOTAL MOT</td>\n",
       "      <td>850131</td>\n",
       "      <td>3074</td>\n",
       "      <td>15</td>\n",
       "      <td>NaN</td>\n",
       "      <td>u</td>\n",
       "      <td>61</td>\n",
       "      <td>u</td>\n",
       "      <td>61</td>\n",
       "    </tr>\n",
       "    <tr>\n",
       "      <th>250</th>\n",
       "      <td>2021</td>\n",
       "      <td>M</td>\n",
       "      <td>China</td>\n",
       "      <td>United Kingdom</td>\n",
       "      <td>World</td>\n",
       "      <td>TOTAL CPC</td>\n",
       "      <td>TOTAL MOT</td>\n",
       "      <td>850131</td>\n",
       "      <td>3460810</td>\n",
       "      <td>30927</td>\n",
       "      <td>NaN</td>\n",
       "      <td>u</td>\n",
       "      <td>6802</td>\n",
       "      <td>u</td>\n",
       "      <td>6802</td>\n",
       "    </tr>\n",
       "    <tr>\n",
       "      <th>251</th>\n",
       "      <td>2021</td>\n",
       "      <td>M</td>\n",
       "      <td>China</td>\n",
       "      <td>USA</td>\n",
       "      <td>World</td>\n",
       "      <td>TOTAL CPC</td>\n",
       "      <td>TOTAL MOT</td>\n",
       "      <td>850131</td>\n",
       "      <td>38809497</td>\n",
       "      <td>450635</td>\n",
       "      <td>NaN</td>\n",
       "      <td>u</td>\n",
       "      <td>524910</td>\n",
       "      <td>u</td>\n",
       "      <td>524910</td>\n",
       "    </tr>\n",
       "    <tr>\n",
       "      <th>252</th>\n",
       "      <td>2021</td>\n",
       "      <td>M</td>\n",
       "      <td>China</td>\n",
       "      <td>Areas, nes</td>\n",
       "      <td>World</td>\n",
       "      <td>TOTAL CPC</td>\n",
       "      <td>TOTAL MOT</td>\n",
       "      <td>850131</td>\n",
       "      <td>23470</td>\n",
       "      <td>114</td>\n",
       "      <td>NaN</td>\n",
       "      <td>u</td>\n",
       "      <td>15</td>\n",
       "      <td>u</td>\n",
       "      <td>15</td>\n",
       "    </tr>\n",
       "  </tbody>\n",
       "</table>\n",
       "<p>253 rows × 15 columns</p>\n",
       "</div>"
      ],
      "text/plain": [
       "     Period Trade Flow Reporter          Partner 2nd Partner Customs Desc  \\\n",
       "0      2021          X    China      Afghanistan       World    TOTAL CPC   \n",
       "1      2021          X    China          Albania       World    TOTAL CPC   \n",
       "2      2021          X    China          Algeria       World    TOTAL CPC   \n",
       "3      2021          X    China          Andorra       World    TOTAL CPC   \n",
       "4      2021          X    China           Angola       World    TOTAL CPC   \n",
       "..      ...        ...      ...              ...         ...          ...   \n",
       "248    2021          M    China          Ukraine       World    TOTAL CPC   \n",
       "249    2021          M    China  North Macedonia       World    TOTAL CPC   \n",
       "250    2021          M    China   United Kingdom       World    TOTAL CPC   \n",
       "251    2021          M    China              USA       World    TOTAL CPC   \n",
       "252    2021          M    China       Areas, nes       World    TOTAL CPC   \n",
       "\n",
       "    Transport Mode  Commodity Code  Trade Value  Net Weight(kg)  Gross Weight  \\\n",
       "0        TOTAL MOT          850131       144498            9542           NaN   \n",
       "1        TOTAL MOT          850131       128885            8482           NaN   \n",
       "2        TOTAL MOT          850131       973904          118862           NaN   \n",
       "3        TOTAL MOT          850131       214532             787           NaN   \n",
       "4        TOTAL MOT          850131       655015          113918           NaN   \n",
       "..             ...             ...          ...             ...           ...   \n",
       "248      TOTAL MOT          850131         5614             165           NaN   \n",
       "249      TOTAL MOT          850131         3074              15           NaN   \n",
       "250      TOTAL MOT          850131      3460810           30927           NaN   \n",
       "251      TOTAL MOT          850131     38809497          450635           NaN   \n",
       "252      TOTAL MOT          850131        23470             114           NaN   \n",
       "\n",
       "    Qty Unit     Qty Alternate Quantity unit  Alternate Quantity  \n",
       "0          u    7100                       u                7100  \n",
       "1          u     765                       u                 765  \n",
       "2          u  117287                       u              117287  \n",
       "3          u     390                       u                 390  \n",
       "4          u   14524                       u               14524  \n",
       "..       ...     ...                     ...                 ...  \n",
       "248        u     100                       u                 100  \n",
       "249        u      61                       u                  61  \n",
       "250        u    6802                       u                6802  \n",
       "251        u  524910                       u              524910  \n",
       "252        u      15                       u                  15  \n",
       "\n",
       "[253 rows x 15 columns]"
      ]
     },
     "execution_count": 43,
     "metadata": {},
     "output_type": "execute_result"
    }
   ],
   "source": [
    "data1"
   ]
  },
  {
   "cell_type": "code",
   "execution_count": 44,
   "metadata": {},
   "outputs": [
    {
     "data": {
      "text/html": [
       "<div>\n",
       "<style scoped>\n",
       "    .dataframe tbody tr th:only-of-type {\n",
       "        vertical-align: middle;\n",
       "    }\n",
       "\n",
       "    .dataframe tbody tr th {\n",
       "        vertical-align: top;\n",
       "    }\n",
       "\n",
       "    .dataframe thead th {\n",
       "        text-align: right;\n",
       "    }\n",
       "</style>\n",
       "<table border=\"1\" class=\"dataframe\">\n",
       "  <thead>\n",
       "    <tr style=\"text-align: right;\">\n",
       "      <th></th>\n",
       "      <th>Period</th>\n",
       "      <th>Trade Flow</th>\n",
       "      <th>Reporter</th>\n",
       "      <th>Partner</th>\n",
       "      <th>2nd Partner</th>\n",
       "      <th>Customs Desc</th>\n",
       "      <th>Transport Mode</th>\n",
       "      <th>Commodity Code</th>\n",
       "      <th>Trade Value</th>\n",
       "      <th>Net Weight(kg)</th>\n",
       "      <th>Gross Weight</th>\n",
       "      <th>Qty Unit</th>\n",
       "      <th>Qty</th>\n",
       "      <th>Alternate Quantity unit</th>\n",
       "      <th>Alternate Quantity</th>\n",
       "    </tr>\n",
       "  </thead>\n",
       "  <tbody>\n",
       "    <tr>\n",
       "      <th>0</th>\n",
       "      <td>2021</td>\n",
       "      <td>X</td>\n",
       "      <td>China</td>\n",
       "      <td>Afghanistan</td>\n",
       "      <td>World</td>\n",
       "      <td>TOTAL CPC</td>\n",
       "      <td>TOTAL MOT</td>\n",
       "      <td>850131</td>\n",
       "      <td>144498</td>\n",
       "      <td>9542</td>\n",
       "      <td>NaN</td>\n",
       "      <td>u</td>\n",
       "      <td>7100</td>\n",
       "      <td>u</td>\n",
       "      <td>7100</td>\n",
       "    </tr>\n",
       "    <tr>\n",
       "      <th>1</th>\n",
       "      <td>2021</td>\n",
       "      <td>X</td>\n",
       "      <td>China</td>\n",
       "      <td>Albania</td>\n",
       "      <td>World</td>\n",
       "      <td>TOTAL CPC</td>\n",
       "      <td>TOTAL MOT</td>\n",
       "      <td>850131</td>\n",
       "      <td>128885</td>\n",
       "      <td>8482</td>\n",
       "      <td>NaN</td>\n",
       "      <td>u</td>\n",
       "      <td>765</td>\n",
       "      <td>u</td>\n",
       "      <td>765</td>\n",
       "    </tr>\n",
       "    <tr>\n",
       "      <th>2</th>\n",
       "      <td>2021</td>\n",
       "      <td>X</td>\n",
       "      <td>China</td>\n",
       "      <td>Algeria</td>\n",
       "      <td>World</td>\n",
       "      <td>TOTAL CPC</td>\n",
       "      <td>TOTAL MOT</td>\n",
       "      <td>850131</td>\n",
       "      <td>973904</td>\n",
       "      <td>118862</td>\n",
       "      <td>NaN</td>\n",
       "      <td>u</td>\n",
       "      <td>117287</td>\n",
       "      <td>u</td>\n",
       "      <td>117287</td>\n",
       "    </tr>\n",
       "    <tr>\n",
       "      <th>3</th>\n",
       "      <td>2021</td>\n",
       "      <td>X</td>\n",
       "      <td>China</td>\n",
       "      <td>Andorra</td>\n",
       "      <td>World</td>\n",
       "      <td>TOTAL CPC</td>\n",
       "      <td>TOTAL MOT</td>\n",
       "      <td>850131</td>\n",
       "      <td>214532</td>\n",
       "      <td>787</td>\n",
       "      <td>NaN</td>\n",
       "      <td>u</td>\n",
       "      <td>390</td>\n",
       "      <td>u</td>\n",
       "      <td>390</td>\n",
       "    </tr>\n",
       "    <tr>\n",
       "      <th>4</th>\n",
       "      <td>2021</td>\n",
       "      <td>X</td>\n",
       "      <td>China</td>\n",
       "      <td>Angola</td>\n",
       "      <td>World</td>\n",
       "      <td>TOTAL CPC</td>\n",
       "      <td>TOTAL MOT</td>\n",
       "      <td>850131</td>\n",
       "      <td>655015</td>\n",
       "      <td>113918</td>\n",
       "      <td>NaN</td>\n",
       "      <td>u</td>\n",
       "      <td>14524</td>\n",
       "      <td>u</td>\n",
       "      <td>14524</td>\n",
       "    </tr>\n",
       "  </tbody>\n",
       "</table>\n",
       "</div>"
      ],
      "text/plain": [
       "   Period Trade Flow Reporter      Partner 2nd Partner Customs Desc  \\\n",
       "0    2021          X    China  Afghanistan       World    TOTAL CPC   \n",
       "1    2021          X    China      Albania       World    TOTAL CPC   \n",
       "2    2021          X    China      Algeria       World    TOTAL CPC   \n",
       "3    2021          X    China      Andorra       World    TOTAL CPC   \n",
       "4    2021          X    China       Angola       World    TOTAL CPC   \n",
       "\n",
       "  Transport Mode  Commodity Code  Trade Value  Net Weight(kg)  Gross Weight  \\\n",
       "0      TOTAL MOT          850131       144498            9542           NaN   \n",
       "1      TOTAL MOT          850131       128885            8482           NaN   \n",
       "2      TOTAL MOT          850131       973904          118862           NaN   \n",
       "3      TOTAL MOT          850131       214532             787           NaN   \n",
       "4      TOTAL MOT          850131       655015          113918           NaN   \n",
       "\n",
       "  Qty Unit     Qty Alternate Quantity unit  Alternate Quantity  \n",
       "0        u    7100                       u                7100  \n",
       "1        u     765                       u                 765  \n",
       "2        u  117287                       u              117287  \n",
       "3        u     390                       u                 390  \n",
       "4        u   14524                       u               14524  "
      ]
     },
     "execution_count": 44,
     "metadata": {},
     "output_type": "execute_result"
    }
   ],
   "source": [
    "data1.head()"
   ]
  },
  {
   "cell_type": "code",
   "execution_count": 45,
   "metadata": {},
   "outputs": [
    {
     "data": {
      "text/plain": [
       "Period                       int64\n",
       "Trade Flow                  object\n",
       "Reporter                    object\n",
       "Partner                     object\n",
       "2nd Partner                 object\n",
       "Customs Desc                object\n",
       "Transport Mode              object\n",
       "Commodity Code               int64\n",
       "Trade Value                  int64\n",
       "Net Weight(kg)               int64\n",
       "Gross Weight               float64\n",
       "Qty Unit                    object\n",
       "Qty                          int64\n",
       "Alternate Quantity unit     object\n",
       "Alternate Quantity           int64\n",
       "dtype: object"
      ]
     },
     "execution_count": 45,
     "metadata": {},
     "output_type": "execute_result"
    }
   ],
   "source": [
    "data1.dtypes"
   ]
  },
  {
   "cell_type": "code",
   "execution_count": 46,
   "metadata": {},
   "outputs": [
    {
     "name": "stdout",
     "output_type": "stream",
     "text": [
      "                  Partner  Trade Value\n",
      "194             Australia       107276\n",
      "195               Austria      2022208\n",
      "196               Belgium       213598\n",
      "197                Brazil         3174\n",
      "198              Bulgaria       247920\n",
      "199              Cambodia        29290\n",
      "200                Canada       169011\n",
      "201               Croatia         4995\n",
      "202               Czechia      7205393\n",
      "203               Denmark      8145623\n",
      "204               Estonia         1004\n",
      "205               Finland        35434\n",
      "206                France     15376094\n",
      "207               Germany    178841849\n",
      "208                Greece         2003\n",
      "209  China, Hong Kong SAR        55936\n",
      "210               Hungary     30983756\n",
      "211             Indonesia      3786365\n",
      "212               Ireland        85149\n",
      "213                Israel      2335767\n",
      "214                 Italy     16598871\n",
      "215                 Japan    441930268\n",
      "216         Rep. of Korea     85610925\n",
      "217             Lithuania         1903\n",
      "218              Malaysia       746237\n",
      "219                Mexico     19087215\n",
      "220       Other Asia, nes     37984780\n",
      "221       Rep. of Moldova        40252\n",
      "222               Morocco           24\n",
      "223               Namibia         2737\n",
      "224           Netherlands      2714048\n",
      "225           New Zealand          274\n",
      "226                Norway        99753\n",
      "227              Pakistan           25\n",
      "228           Philippines      1853991\n",
      "229                Poland      9240548\n",
      "230              Portugal      2018575\n",
      "231               Romania      4010129\n",
      "232    Russian Federation        10519\n",
      "233            San Marino         1508\n",
      "234                Serbia      1805542\n",
      "235          Sierra Leone          686\n",
      "236                 India      2948343\n",
      "237             Singapore      5814716\n",
      "238              Slovakia      1703625\n",
      "239              Viet Nam     44380912\n",
      "240              Slovenia      1022512\n",
      "241          South Africa        57180\n",
      "242                 Spain      3591724\n",
      "243              Eswatini        10310\n",
      "244                Sweden      2702514\n",
      "245           Switzerland     89154337\n",
      "246              Thailand      1303888\n",
      "247                Turkey       839219\n",
      "248               Ukraine         5614\n",
      "249       North Macedonia         3074\n",
      "250        United Kingdom      3460810\n",
      "251                   USA     38809497\n",
      "252            Areas, nes        23470\n"
     ]
    }
   ],
   "source": [
    "#creating a new subset, which only includes imports (M) to China\n",
    "data_import = data1.loc[(data1[\"Trade Flow\"] == \"M\"), [\"Partner\",\"Trade Value\"]]\n",
    "print (data_import)"
   ]
  },
  {
   "cell_type": "code",
   "execution_count": 47,
   "metadata": {},
   "outputs": [
    {
     "name": "stdout",
     "output_type": "stream",
     "text": [
      "                              Partner  Trade Value\n",
      "0                         Afghanistan       144498\n",
      "1                             Albania       128885\n",
      "2                             Algeria       973904\n",
      "3                             Andorra       214532\n",
      "4                              Angola       655015\n",
      "5                 Antigua and Barbuda         3424\n",
      "6                          Azerbaijan        45911\n",
      "7                           Argentina      2781248\n",
      "8                           Australia     36616850\n",
      "9                             Austria     29512035\n",
      "10                            Bahamas         2266\n",
      "11                            Bahrain       443166\n",
      "12                         Bangladesh      2679757\n",
      "13                            Armenia       101112\n",
      "14                           Barbados         3348\n",
      "15                            Belgium     23096441\n",
      "16   Bolivia (Plurinational State of)       107402\n",
      "17                 Bosnia Herzegovina        86411\n",
      "18                           Botswana       356837\n",
      "19                             Brazil     49610476\n",
      "20                             Belize         9947\n",
      "21                       Solomon Isds       161685\n",
      "22                    Br. Virgin Isds          972\n",
      "23                  Brunei Darussalam        52377\n",
      "24                           Bulgaria     17603989\n",
      "25                            Myanmar      3362872\n",
      "26                            Burundi       404087\n",
      "27                            Belarus      2057322\n",
      "28                           Cambodia     36540951\n",
      "29                           Cameroon       159532\n",
      "30                             Canada     22748354\n",
      "31                         Cabo Verde         8750\n",
      "32                        Cayman Isds          743\n",
      "33                          Sri Lanka       888492\n",
      "34                               Chad       334527\n",
      "35                              Chile      3511690\n",
      "36                           Colombia      2722802\n",
      "37                            Comoros          450\n",
      "38                              Congo        22370\n",
      "39             Dem. Rep. of the Congo       244801\n",
      "40                          Cook Isds           35\n",
      "41                         Costa Rica       136053\n",
      "42                            Croatia       432155\n",
      "43                               Cuba        15257\n",
      "44                             Cyprus        74863\n",
      "45                            Czechia     98344901\n",
      "46                              Benin      1989088\n",
      "47                            Denmark     15443428\n",
      "48                     Dominican Rep.       435668\n",
      "49                            Ecuador      2397211\n",
      "50                        El Salvador       184101\n",
      "51                  Equatorial Guinea           56\n",
      "52                           Ethiopia      2853474\n",
      "53                            Eritrea        12348\n",
      "54                            Estonia      1109156\n",
      "55                               Fiji       173622\n",
      "56                            Finland      3135605\n",
      "57                             France     77921621\n",
      "58                   French Polynesia        73413\n",
      "59                           Djibouti      1106474\n",
      "60                              Gabon        23288\n",
      "61                            Georgia        15619\n",
      "62                             Gambia        22287\n",
      "63                 State of Palestine        12053\n",
      "64                            Germany    269727978\n",
      "65                              Ghana       975156\n",
      "66                          Gibraltar          125\n",
      "67                           Kiribati         4428\n",
      "68                             Greece      7901889\n",
      "69                            Grenada          152\n",
      "70                          Guatemala       737574\n",
      "71                             Guinea        48226\n",
      "72                             Guyana        32157\n",
      "73                              Haiti       244555\n",
      "74                           Honduras       390262\n",
      "75               China, Hong Kong SAR    171404432\n",
      "76                            Hungary     50168485\n",
      "77                            Iceland        28485\n",
      "78                          Indonesia     23942231\n",
      "79                               Iran      9398145\n",
      "80                               Iraq      1342904\n",
      "81                            Ireland       790074\n",
      "82                             Israel     27879803\n",
      "83                              Italy    152309287\n",
      "84                      Côte d'Ivoire      1379096\n",
      "85                            Jamaica       133685\n",
      "86                              Japan    263005260\n",
      "87                         Kazakhstan      2057226\n",
      "88                             Jordan       287248\n",
      "89                              Kenya      8890844\n",
      "90                      Rep. of Korea    192275313\n",
      "91                             Kuwait       458166\n",
      "92                         Kyrgyzstan       146488\n",
      "93             Lao People's Dem. Rep.      3462458\n",
      "94                            Lebanon       643233\n",
      "95                            Lesotho         3614\n",
      "96                             Latvia       518117\n",
      "97                            Liberia       393879\n",
      "98                              Libya       288040\n",
      "99                          Lithuania     12097116\n",
      "100                        Luxembourg       149391\n",
      "101                  China, Macao SAR      1251338\n",
      "102                        Madagascar       452215\n",
      "103                            Malawi       503349\n",
      "104                          Malaysia     80625931\n",
      "105                          Maldives         4564\n",
      "106                              Mali       363180\n",
      "107                             Malta      1236387\n",
      "108                         LAIA, nes          164\n",
      "109                        Mauritania       111235\n",
      "110                         Mauritius        29616\n",
      "111                            Mexico     97666897\n",
      "112                   Other Asia, nes     98823527\n",
      "113                          Mongolia       207020\n",
      "114                   Rep. of Moldova         7945\n",
      "115                           Morocco      4966413\n",
      "116                        Mozambique      3302373\n",
      "117                              Oman       604510\n",
      "118                           Namibia       862016\n",
      "119                             Nepal       114174\n",
      "120                       Netherlands    109442705\n",
      "121                           Curaçao        28648\n",
      "122                             Aruba        15937\n",
      "123                     New Caledonia        16364\n",
      "124                           Vanuatu        79559\n",
      "125                       New Zealand      3084595\n",
      "126                         Nicaragua        13046\n",
      "127                             Niger        79121\n",
      "128                           Nigeria      6743152\n",
      "129                            Norway      2597857\n",
      "130                     Marshall Isds         8000\n",
      "131                          Pakistan      6428110\n",
      "132                            Panama      3138790\n",
      "133                  Papua New Guinea        87827\n",
      "134                          Paraguay       402524\n",
      "135                              Peru      1888515\n",
      "136                       Philippines     19534139\n",
      "137                            Poland     91853466\n",
      "138                          Portugal     32579930\n",
      "139                     Guinea-Bissau           36\n",
      "140                       Timor-Leste         1290\n",
      "141                             Qatar       500407\n",
      "142                           Romania     51685041\n",
      "143                Russian Federation     30394240\n",
      "144                            Rwanda      2745417\n",
      "145                       Saint Lucia         1147\n",
      "146                        San Marino       268556\n",
      "147             Sao Tome and Principe          245\n",
      "148                      Saudi Arabia      6785793\n",
      "149                           Senegal       333957\n",
      "150                            Serbia       323432\n",
      "151                        Seychelles           30\n",
      "152                      Sierra Leone       279998\n",
      "153                             India     98645685\n",
      "154                         Singapore     10239768\n",
      "155                          Slovakia     27229595\n",
      "156                          Viet Nam    226508189\n",
      "157                          Slovenia     27226136\n",
      "158                           Somalia       343007\n",
      "159                      South Africa      8993727\n",
      "160                          Zimbabwe       975556\n",
      "161                             Spain     46034537\n",
      "162                       South Sudan        55675\n",
      "163                             Sudan       184815\n",
      "164                          Suriname         8134\n",
      "165                          Eswatini         3700\n",
      "166                            Sweden     20293757\n",
      "167                       Switzerland     26304833\n",
      "168                             Syria        76603\n",
      "169                        Tajikistan        98759\n",
      "170                          Thailand    171143330\n",
      "171                              Togo       262458\n",
      "172                             Tonga          634\n",
      "173               Trinidad and Tobago        60825\n",
      "174              United Arab Emirates     15580811\n",
      "175                           Tunisia      1487555\n",
      "176                            Turkey     50263663\n",
      "177                      Turkmenistan        49418\n",
      "178             Turks and Caicos Isds          118\n",
      "179                            Tuvalu          262\n",
      "180                            Uganda      3053133\n",
      "181                           Ukraine      5142836\n",
      "182                   North Macedonia         5839\n",
      "183                             Egypt      6922029\n",
      "184                    United Kingdom     40281984\n",
      "185           United Rep. of Tanzania      2067613\n",
      "186                               USA    524707386\n",
      "187                      Burkina Faso       450153\n",
      "188                           Uruguay       643357\n",
      "189                        Uzbekistan      1261855\n",
      "190                         Venezuela       241367\n",
      "191                             Samoa          287\n",
      "192                             Yemen      1162198\n",
      "193                            Zambia      2306844\n"
     ]
    }
   ],
   "source": [
    "#creating a new subset, which only includes exports (X) from China\n",
    "data_export = data1.loc[(data1[\"Trade Flow\"] == \"X\"), [\"Partner\",\"Trade Value\"]]\n",
    "print (data_export.to_string())"
   ]
  },
  {
   "cell_type": "code",
   "execution_count": 48,
   "metadata": {},
   "outputs": [
    {
     "data": {
      "text/html": [
       "<div>\n",
       "<style scoped>\n",
       "    .dataframe tbody tr th:only-of-type {\n",
       "        vertical-align: middle;\n",
       "    }\n",
       "\n",
       "    .dataframe tbody tr th {\n",
       "        vertical-align: top;\n",
       "    }\n",
       "\n",
       "    .dataframe thead th {\n",
       "        text-align: right;\n",
       "    }\n",
       "</style>\n",
       "<table border=\"1\" class=\"dataframe\">\n",
       "  <thead>\n",
       "    <tr style=\"text-align: right;\">\n",
       "      <th></th>\n",
       "      <th>Partner</th>\n",
       "      <th>Trade Value</th>\n",
       "    </tr>\n",
       "  </thead>\n",
       "  <tbody>\n",
       "    <tr>\n",
       "      <th>215</th>\n",
       "      <td>Japan</td>\n",
       "      <td>441930268</td>\n",
       "    </tr>\n",
       "    <tr>\n",
       "      <th>207</th>\n",
       "      <td>Germany</td>\n",
       "      <td>178841849</td>\n",
       "    </tr>\n",
       "    <tr>\n",
       "      <th>245</th>\n",
       "      <td>Switzerland</td>\n",
       "      <td>89154337</td>\n",
       "    </tr>\n",
       "    <tr>\n",
       "      <th>216</th>\n",
       "      <td>Rep. of Korea</td>\n",
       "      <td>85610925</td>\n",
       "    </tr>\n",
       "    <tr>\n",
       "      <th>239</th>\n",
       "      <td>Viet Nam</td>\n",
       "      <td>44380912</td>\n",
       "    </tr>\n",
       "    <tr>\n",
       "      <th>251</th>\n",
       "      <td>USA</td>\n",
       "      <td>38809497</td>\n",
       "    </tr>\n",
       "    <tr>\n",
       "      <th>220</th>\n",
       "      <td>Other Asia, nes</td>\n",
       "      <td>37984780</td>\n",
       "    </tr>\n",
       "    <tr>\n",
       "      <th>210</th>\n",
       "      <td>Hungary</td>\n",
       "      <td>30983756</td>\n",
       "    </tr>\n",
       "    <tr>\n",
       "      <th>219</th>\n",
       "      <td>Mexico</td>\n",
       "      <td>19087215</td>\n",
       "    </tr>\n",
       "    <tr>\n",
       "      <th>214</th>\n",
       "      <td>Italy</td>\n",
       "      <td>16598871</td>\n",
       "    </tr>\n",
       "  </tbody>\n",
       "</table>\n",
       "</div>"
      ],
      "text/plain": [
       "             Partner  Trade Value\n",
       "215            Japan    441930268\n",
       "207          Germany    178841849\n",
       "245      Switzerland     89154337\n",
       "216    Rep. of Korea     85610925\n",
       "239         Viet Nam     44380912\n",
       "251              USA     38809497\n",
       "220  Other Asia, nes     37984780\n",
       "210          Hungary     30983756\n",
       "219           Mexico     19087215\n",
       "214            Italy     16598871"
      ]
     },
     "execution_count": 48,
     "metadata": {},
     "output_type": "execute_result"
    }
   ],
   "source": [
    "#preparing the dataset for a pie chart - IMPORT\n",
    "data_import_main = data_import.sort_values(by=[\"Trade Value\"],ascending=False) #sorting the data based on countries with the highest trade values\n",
    "data_import_main = data_import_main.head(10) # showing the top 10\n",
    "data_import_main"
   ]
  },
  {
   "cell_type": "code",
   "execution_count": 49,
   "metadata": {},
   "outputs": [
    {
     "data": {
      "text/html": [
       "<div>\n",
       "<style scoped>\n",
       "    .dataframe tbody tr th:only-of-type {\n",
       "        vertical-align: middle;\n",
       "    }\n",
       "\n",
       "    .dataframe tbody tr th {\n",
       "        vertical-align: top;\n",
       "    }\n",
       "\n",
       "    .dataframe thead th {\n",
       "        text-align: right;\n",
       "    }\n",
       "</style>\n",
       "<table border=\"1\" class=\"dataframe\">\n",
       "  <thead>\n",
       "    <tr style=\"text-align: right;\">\n",
       "      <th></th>\n",
       "      <th>Partner</th>\n",
       "      <th>Trade Value</th>\n",
       "    </tr>\n",
       "  </thead>\n",
       "  <tbody>\n",
       "    <tr>\n",
       "      <th>186</th>\n",
       "      <td>USA</td>\n",
       "      <td>524707386</td>\n",
       "    </tr>\n",
       "    <tr>\n",
       "      <th>64</th>\n",
       "      <td>Germany</td>\n",
       "      <td>269727978</td>\n",
       "    </tr>\n",
       "    <tr>\n",
       "      <th>86</th>\n",
       "      <td>Japan</td>\n",
       "      <td>263005260</td>\n",
       "    </tr>\n",
       "    <tr>\n",
       "      <th>156</th>\n",
       "      <td>Viet Nam</td>\n",
       "      <td>226508189</td>\n",
       "    </tr>\n",
       "    <tr>\n",
       "      <th>90</th>\n",
       "      <td>Rep. of Korea</td>\n",
       "      <td>192275313</td>\n",
       "    </tr>\n",
       "    <tr>\n",
       "      <th>75</th>\n",
       "      <td>China, Hong Kong SAR</td>\n",
       "      <td>171404432</td>\n",
       "    </tr>\n",
       "    <tr>\n",
       "      <th>170</th>\n",
       "      <td>Thailand</td>\n",
       "      <td>171143330</td>\n",
       "    </tr>\n",
       "    <tr>\n",
       "      <th>83</th>\n",
       "      <td>Italy</td>\n",
       "      <td>152309287</td>\n",
       "    </tr>\n",
       "    <tr>\n",
       "      <th>120</th>\n",
       "      <td>Netherlands</td>\n",
       "      <td>109442705</td>\n",
       "    </tr>\n",
       "    <tr>\n",
       "      <th>112</th>\n",
       "      <td>Other Asia, nes</td>\n",
       "      <td>98823527</td>\n",
       "    </tr>\n",
       "  </tbody>\n",
       "</table>\n",
       "</div>"
      ],
      "text/plain": [
       "                  Partner  Trade Value\n",
       "186                   USA    524707386\n",
       "64                Germany    269727978\n",
       "86                  Japan    263005260\n",
       "156              Viet Nam    226508189\n",
       "90          Rep. of Korea    192275313\n",
       "75   China, Hong Kong SAR    171404432\n",
       "170              Thailand    171143330\n",
       "83                  Italy    152309287\n",
       "120           Netherlands    109442705\n",
       "112       Other Asia, nes     98823527"
      ]
     },
     "execution_count": 49,
     "metadata": {},
     "output_type": "execute_result"
    }
   ],
   "source": [
    "#preparing the dataset for a pie chart - EXPORT\n",
    "data_export_main = data_export.sort_values(by=[\"Trade Value\"],ascending=False) #sorting the data based on countries with the highest trade values\n",
    "data_export_main = data_export_main.head(10) # showing the top 10\n",
    "data_export_main"
   ]
  },
  {
   "cell_type": "code",
   "execution_count": 50,
   "metadata": {},
   "outputs": [
    {
     "name": "stdout",
     "output_type": "stream",
     "text": [
      "  Partner  Trade Value\n",
      "0   Other     70483896\n"
     ]
    }
   ],
   "source": [
    "#creating a subset with the sum of all countries that are not in the top 10\n",
    "data_import_summed = data_import.loc[(data_import[\"Trade Value\"] < 10000000)].sum()\n",
    "\n",
    "data_import_summ= pd.DataFrame({\n",
    "\"Partner\": [\"Other\"],\n",
    "\"Trade Value\": [data_import_summed[\"Trade Value\"]]})\n",
    "print(data_import_summ)\n"
   ]
  },
  {
   "cell_type": "code",
   "execution_count": 51,
   "metadata": {},
   "outputs": [
    {
     "name": "stdout",
     "output_type": "stream",
     "text": [
      "  Partner  Trade Value\n",
      "0   Other    163306187\n"
     ]
    }
   ],
   "source": [
    "#creating a subset with sum of all countries that are not in top 10 \n",
    "data_export_summed = data_export.loc[(data_export[\"Trade Value\"] < 10000000)].sum()\n",
    "\n",
    "data_export_summ= pd.DataFrame({\n",
    "\"Partner\": [\"Other\"],\n",
    "\"Trade Value\": [data_export_summed[\"Trade Value\"]]})\n",
    "print(data_export_summ)"
   ]
  },
  {
   "cell_type": "code",
   "execution_count": 52,
   "metadata": {},
   "outputs": [
    {
     "data": {
      "text/html": [
       "<div>\n",
       "<style scoped>\n",
       "    .dataframe tbody tr th:only-of-type {\n",
       "        vertical-align: middle;\n",
       "    }\n",
       "\n",
       "    .dataframe tbody tr th {\n",
       "        vertical-align: top;\n",
       "    }\n",
       "\n",
       "    .dataframe thead th {\n",
       "        text-align: right;\n",
       "    }\n",
       "</style>\n",
       "<table border=\"1\" class=\"dataframe\">\n",
       "  <thead>\n",
       "    <tr style=\"text-align: right;\">\n",
       "      <th></th>\n",
       "      <th>Partner</th>\n",
       "      <th>Trade Value</th>\n",
       "    </tr>\n",
       "  </thead>\n",
       "  <tbody>\n",
       "    <tr>\n",
       "      <th>215</th>\n",
       "      <td>Japan</td>\n",
       "      <td>441930268</td>\n",
       "    </tr>\n",
       "    <tr>\n",
       "      <th>207</th>\n",
       "      <td>Germany</td>\n",
       "      <td>178841849</td>\n",
       "    </tr>\n",
       "    <tr>\n",
       "      <th>245</th>\n",
       "      <td>Switzerland</td>\n",
       "      <td>89154337</td>\n",
       "    </tr>\n",
       "    <tr>\n",
       "      <th>216</th>\n",
       "      <td>Rep. of Korea</td>\n",
       "      <td>85610925</td>\n",
       "    </tr>\n",
       "    <tr>\n",
       "      <th>239</th>\n",
       "      <td>Viet Nam</td>\n",
       "      <td>44380912</td>\n",
       "    </tr>\n",
       "    <tr>\n",
       "      <th>251</th>\n",
       "      <td>USA</td>\n",
       "      <td>38809497</td>\n",
       "    </tr>\n",
       "    <tr>\n",
       "      <th>220</th>\n",
       "      <td>Other Asia, nes</td>\n",
       "      <td>37984780</td>\n",
       "    </tr>\n",
       "    <tr>\n",
       "      <th>210</th>\n",
       "      <td>Hungary</td>\n",
       "      <td>30983756</td>\n",
       "    </tr>\n",
       "    <tr>\n",
       "      <th>219</th>\n",
       "      <td>Mexico</td>\n",
       "      <td>19087215</td>\n",
       "    </tr>\n",
       "    <tr>\n",
       "      <th>214</th>\n",
       "      <td>Italy</td>\n",
       "      <td>16598871</td>\n",
       "    </tr>\n",
       "    <tr>\n",
       "      <th>0</th>\n",
       "      <td>Other</td>\n",
       "      <td>70483896</td>\n",
       "    </tr>\n",
       "  </tbody>\n",
       "</table>\n",
       "</div>"
      ],
      "text/plain": [
       "             Partner  Trade Value\n",
       "215            Japan    441930268\n",
       "207          Germany    178841849\n",
       "245      Switzerland     89154337\n",
       "216    Rep. of Korea     85610925\n",
       "239         Viet Nam     44380912\n",
       "251              USA     38809497\n",
       "220  Other Asia, nes     37984780\n",
       "210          Hungary     30983756\n",
       "219           Mexico     19087215\n",
       "214            Italy     16598871\n",
       "0              Other     70483896"
      ]
     },
     "execution_count": 52,
     "metadata": {},
     "output_type": "execute_result"
    }
   ],
   "source": [
    "#adding the sum row to the dataframe \n",
    "\n",
    "data_import_pie = pd.concat([data_import_main,data_import_summ])\n",
    "data_import_pie\n",
    "#data_import_main.loc[\"Other\"] = data_import_summed[\"Trade Value\"] #this just adds it to the end but doesnt add the \"Other\" in the right columns, since it sums up all columns -> also the Reporter column\n"
   ]
  },
  {
   "cell_type": "code",
   "execution_count": 53,
   "metadata": {},
   "outputs": [
    {
     "data": {
      "text/html": [
       "<div>\n",
       "<style scoped>\n",
       "    .dataframe tbody tr th:only-of-type {\n",
       "        vertical-align: middle;\n",
       "    }\n",
       "\n",
       "    .dataframe tbody tr th {\n",
       "        vertical-align: top;\n",
       "    }\n",
       "\n",
       "    .dataframe thead th {\n",
       "        text-align: right;\n",
       "    }\n",
       "</style>\n",
       "<table border=\"1\" class=\"dataframe\">\n",
       "  <thead>\n",
       "    <tr style=\"text-align: right;\">\n",
       "      <th></th>\n",
       "      <th>Partner</th>\n",
       "      <th>Trade Value</th>\n",
       "    </tr>\n",
       "  </thead>\n",
       "  <tbody>\n",
       "    <tr>\n",
       "      <th>186</th>\n",
       "      <td>USA</td>\n",
       "      <td>524707386</td>\n",
       "    </tr>\n",
       "    <tr>\n",
       "      <th>64</th>\n",
       "      <td>Germany</td>\n",
       "      <td>269727978</td>\n",
       "    </tr>\n",
       "    <tr>\n",
       "      <th>86</th>\n",
       "      <td>Japan</td>\n",
       "      <td>263005260</td>\n",
       "    </tr>\n",
       "    <tr>\n",
       "      <th>156</th>\n",
       "      <td>Viet Nam</td>\n",
       "      <td>226508189</td>\n",
       "    </tr>\n",
       "    <tr>\n",
       "      <th>90</th>\n",
       "      <td>Rep. of Korea</td>\n",
       "      <td>192275313</td>\n",
       "    </tr>\n",
       "    <tr>\n",
       "      <th>75</th>\n",
       "      <td>China, Hong Kong SAR</td>\n",
       "      <td>171404432</td>\n",
       "    </tr>\n",
       "    <tr>\n",
       "      <th>170</th>\n",
       "      <td>Thailand</td>\n",
       "      <td>171143330</td>\n",
       "    </tr>\n",
       "    <tr>\n",
       "      <th>83</th>\n",
       "      <td>Italy</td>\n",
       "      <td>152309287</td>\n",
       "    </tr>\n",
       "    <tr>\n",
       "      <th>120</th>\n",
       "      <td>Netherlands</td>\n",
       "      <td>109442705</td>\n",
       "    </tr>\n",
       "    <tr>\n",
       "      <th>112</th>\n",
       "      <td>Other Asia, nes</td>\n",
       "      <td>98823527</td>\n",
       "    </tr>\n",
       "    <tr>\n",
       "      <th>0</th>\n",
       "      <td>Other</td>\n",
       "      <td>163306187</td>\n",
       "    </tr>\n",
       "  </tbody>\n",
       "</table>\n",
       "</div>"
      ],
      "text/plain": [
       "                  Partner  Trade Value\n",
       "186                   USA    524707386\n",
       "64                Germany    269727978\n",
       "86                  Japan    263005260\n",
       "156              Viet Nam    226508189\n",
       "90          Rep. of Korea    192275313\n",
       "75   China, Hong Kong SAR    171404432\n",
       "170              Thailand    171143330\n",
       "83                  Italy    152309287\n",
       "120           Netherlands    109442705\n",
       "112       Other Asia, nes     98823527\n",
       "0                   Other    163306187"
      ]
     },
     "execution_count": 53,
     "metadata": {},
     "output_type": "execute_result"
    }
   ],
   "source": [
    "#adding the sum row to the dataframe \n",
    "\n",
    "data_export_pie = pd.concat([data_export_main,data_export_summ])\n",
    "data_export_pie"
   ]
  },
  {
   "cell_type": "code",
   "execution_count": 54,
   "metadata": {},
   "outputs": [
    {
     "data": {
      "application/vnd.plotly.v1+json": {
       "config": {
        "plotlyServerURL": "https://plot.ly"
       },
       "data": [
        {
         "domain": {
          "x": [
           0,
           1
          ],
          "y": [
           0,
           1
          ]
         },
         "hovertemplate": "Partner=%{label}<br>Trade Value=%{value}<extra></extra>",
         "labels": [
          "Japan",
          "Germany",
          "Switzerland",
          "Rep. of Korea",
          "Viet Nam",
          "USA",
          "Other Asia, nes",
          "Hungary",
          "Mexico",
          "Italy",
          "Other"
         ],
         "legendgroup": "",
         "name": "",
         "showlegend": true,
         "type": "pie",
         "values": [
          441930268,
          178841849,
          89154337,
          85610925,
          44380912,
          38809497,
          37984780,
          30983756,
          19087215,
          16598871,
          70483896
         ]
        }
       ],
       "layout": {
        "legend": {
         "tracegroupgap": 0
        },
        "margin": {
         "t": 60
        },
        "template": {
         "data": {
          "bar": [
           {
            "error_x": {
             "color": "#2a3f5f"
            },
            "error_y": {
             "color": "#2a3f5f"
            },
            "marker": {
             "line": {
              "color": "#E5ECF6",
              "width": 0.5
             },
             "pattern": {
              "fillmode": "overlay",
              "size": 10,
              "solidity": 0.2
             }
            },
            "type": "bar"
           }
          ],
          "barpolar": [
           {
            "marker": {
             "line": {
              "color": "#E5ECF6",
              "width": 0.5
             },
             "pattern": {
              "fillmode": "overlay",
              "size": 10,
              "solidity": 0.2
             }
            },
            "type": "barpolar"
           }
          ],
          "carpet": [
           {
            "aaxis": {
             "endlinecolor": "#2a3f5f",
             "gridcolor": "white",
             "linecolor": "white",
             "minorgridcolor": "white",
             "startlinecolor": "#2a3f5f"
            },
            "baxis": {
             "endlinecolor": "#2a3f5f",
             "gridcolor": "white",
             "linecolor": "white",
             "minorgridcolor": "white",
             "startlinecolor": "#2a3f5f"
            },
            "type": "carpet"
           }
          ],
          "choropleth": [
           {
            "colorbar": {
             "outlinewidth": 0,
             "ticks": ""
            },
            "type": "choropleth"
           }
          ],
          "contour": [
           {
            "colorbar": {
             "outlinewidth": 0,
             "ticks": ""
            },
            "colorscale": [
             [
              0,
              "#0d0887"
             ],
             [
              0.1111111111111111,
              "#46039f"
             ],
             [
              0.2222222222222222,
              "#7201a8"
             ],
             [
              0.3333333333333333,
              "#9c179e"
             ],
             [
              0.4444444444444444,
              "#bd3786"
             ],
             [
              0.5555555555555556,
              "#d8576b"
             ],
             [
              0.6666666666666666,
              "#ed7953"
             ],
             [
              0.7777777777777778,
              "#fb9f3a"
             ],
             [
              0.8888888888888888,
              "#fdca26"
             ],
             [
              1,
              "#f0f921"
             ]
            ],
            "type": "contour"
           }
          ],
          "contourcarpet": [
           {
            "colorbar": {
             "outlinewidth": 0,
             "ticks": ""
            },
            "type": "contourcarpet"
           }
          ],
          "heatmap": [
           {
            "colorbar": {
             "outlinewidth": 0,
             "ticks": ""
            },
            "colorscale": [
             [
              0,
              "#0d0887"
             ],
             [
              0.1111111111111111,
              "#46039f"
             ],
             [
              0.2222222222222222,
              "#7201a8"
             ],
             [
              0.3333333333333333,
              "#9c179e"
             ],
             [
              0.4444444444444444,
              "#bd3786"
             ],
             [
              0.5555555555555556,
              "#d8576b"
             ],
             [
              0.6666666666666666,
              "#ed7953"
             ],
             [
              0.7777777777777778,
              "#fb9f3a"
             ],
             [
              0.8888888888888888,
              "#fdca26"
             ],
             [
              1,
              "#f0f921"
             ]
            ],
            "type": "heatmap"
           }
          ],
          "heatmapgl": [
           {
            "colorbar": {
             "outlinewidth": 0,
             "ticks": ""
            },
            "colorscale": [
             [
              0,
              "#0d0887"
             ],
             [
              0.1111111111111111,
              "#46039f"
             ],
             [
              0.2222222222222222,
              "#7201a8"
             ],
             [
              0.3333333333333333,
              "#9c179e"
             ],
             [
              0.4444444444444444,
              "#bd3786"
             ],
             [
              0.5555555555555556,
              "#d8576b"
             ],
             [
              0.6666666666666666,
              "#ed7953"
             ],
             [
              0.7777777777777778,
              "#fb9f3a"
             ],
             [
              0.8888888888888888,
              "#fdca26"
             ],
             [
              1,
              "#f0f921"
             ]
            ],
            "type": "heatmapgl"
           }
          ],
          "histogram": [
           {
            "marker": {
             "pattern": {
              "fillmode": "overlay",
              "size": 10,
              "solidity": 0.2
             }
            },
            "type": "histogram"
           }
          ],
          "histogram2d": [
           {
            "colorbar": {
             "outlinewidth": 0,
             "ticks": ""
            },
            "colorscale": [
             [
              0,
              "#0d0887"
             ],
             [
              0.1111111111111111,
              "#46039f"
             ],
             [
              0.2222222222222222,
              "#7201a8"
             ],
             [
              0.3333333333333333,
              "#9c179e"
             ],
             [
              0.4444444444444444,
              "#bd3786"
             ],
             [
              0.5555555555555556,
              "#d8576b"
             ],
             [
              0.6666666666666666,
              "#ed7953"
             ],
             [
              0.7777777777777778,
              "#fb9f3a"
             ],
             [
              0.8888888888888888,
              "#fdca26"
             ],
             [
              1,
              "#f0f921"
             ]
            ],
            "type": "histogram2d"
           }
          ],
          "histogram2dcontour": [
           {
            "colorbar": {
             "outlinewidth": 0,
             "ticks": ""
            },
            "colorscale": [
             [
              0,
              "#0d0887"
             ],
             [
              0.1111111111111111,
              "#46039f"
             ],
             [
              0.2222222222222222,
              "#7201a8"
             ],
             [
              0.3333333333333333,
              "#9c179e"
             ],
             [
              0.4444444444444444,
              "#bd3786"
             ],
             [
              0.5555555555555556,
              "#d8576b"
             ],
             [
              0.6666666666666666,
              "#ed7953"
             ],
             [
              0.7777777777777778,
              "#fb9f3a"
             ],
             [
              0.8888888888888888,
              "#fdca26"
             ],
             [
              1,
              "#f0f921"
             ]
            ],
            "type": "histogram2dcontour"
           }
          ],
          "mesh3d": [
           {
            "colorbar": {
             "outlinewidth": 0,
             "ticks": ""
            },
            "type": "mesh3d"
           }
          ],
          "parcoords": [
           {
            "line": {
             "colorbar": {
              "outlinewidth": 0,
              "ticks": ""
             }
            },
            "type": "parcoords"
           }
          ],
          "pie": [
           {
            "automargin": true,
            "type": "pie"
           }
          ],
          "scatter": [
           {
            "fillpattern": {
             "fillmode": "overlay",
             "size": 10,
             "solidity": 0.2
            },
            "type": "scatter"
           }
          ],
          "scatter3d": [
           {
            "line": {
             "colorbar": {
              "outlinewidth": 0,
              "ticks": ""
             }
            },
            "marker": {
             "colorbar": {
              "outlinewidth": 0,
              "ticks": ""
             }
            },
            "type": "scatter3d"
           }
          ],
          "scattercarpet": [
           {
            "marker": {
             "colorbar": {
              "outlinewidth": 0,
              "ticks": ""
             }
            },
            "type": "scattercarpet"
           }
          ],
          "scattergeo": [
           {
            "marker": {
             "colorbar": {
              "outlinewidth": 0,
              "ticks": ""
             }
            },
            "type": "scattergeo"
           }
          ],
          "scattergl": [
           {
            "marker": {
             "colorbar": {
              "outlinewidth": 0,
              "ticks": ""
             }
            },
            "type": "scattergl"
           }
          ],
          "scattermapbox": [
           {
            "marker": {
             "colorbar": {
              "outlinewidth": 0,
              "ticks": ""
             }
            },
            "type": "scattermapbox"
           }
          ],
          "scatterpolar": [
           {
            "marker": {
             "colorbar": {
              "outlinewidth": 0,
              "ticks": ""
             }
            },
            "type": "scatterpolar"
           }
          ],
          "scatterpolargl": [
           {
            "marker": {
             "colorbar": {
              "outlinewidth": 0,
              "ticks": ""
             }
            },
            "type": "scatterpolargl"
           }
          ],
          "scatterternary": [
           {
            "marker": {
             "colorbar": {
              "outlinewidth": 0,
              "ticks": ""
             }
            },
            "type": "scatterternary"
           }
          ],
          "surface": [
           {
            "colorbar": {
             "outlinewidth": 0,
             "ticks": ""
            },
            "colorscale": [
             [
              0,
              "#0d0887"
             ],
             [
              0.1111111111111111,
              "#46039f"
             ],
             [
              0.2222222222222222,
              "#7201a8"
             ],
             [
              0.3333333333333333,
              "#9c179e"
             ],
             [
              0.4444444444444444,
              "#bd3786"
             ],
             [
              0.5555555555555556,
              "#d8576b"
             ],
             [
              0.6666666666666666,
              "#ed7953"
             ],
             [
              0.7777777777777778,
              "#fb9f3a"
             ],
             [
              0.8888888888888888,
              "#fdca26"
             ],
             [
              1,
              "#f0f921"
             ]
            ],
            "type": "surface"
           }
          ],
          "table": [
           {
            "cells": {
             "fill": {
              "color": "#EBF0F8"
             },
             "line": {
              "color": "white"
             }
            },
            "header": {
             "fill": {
              "color": "#C8D4E3"
             },
             "line": {
              "color": "white"
             }
            },
            "type": "table"
           }
          ]
         },
         "layout": {
          "annotationdefaults": {
           "arrowcolor": "#2a3f5f",
           "arrowhead": 0,
           "arrowwidth": 1
          },
          "autotypenumbers": "strict",
          "coloraxis": {
           "colorbar": {
            "outlinewidth": 0,
            "ticks": ""
           }
          },
          "colorscale": {
           "diverging": [
            [
             0,
             "#8e0152"
            ],
            [
             0.1,
             "#c51b7d"
            ],
            [
             0.2,
             "#de77ae"
            ],
            [
             0.3,
             "#f1b6da"
            ],
            [
             0.4,
             "#fde0ef"
            ],
            [
             0.5,
             "#f7f7f7"
            ],
            [
             0.6,
             "#e6f5d0"
            ],
            [
             0.7,
             "#b8e186"
            ],
            [
             0.8,
             "#7fbc41"
            ],
            [
             0.9,
             "#4d9221"
            ],
            [
             1,
             "#276419"
            ]
           ],
           "sequential": [
            [
             0,
             "#0d0887"
            ],
            [
             0.1111111111111111,
             "#46039f"
            ],
            [
             0.2222222222222222,
             "#7201a8"
            ],
            [
             0.3333333333333333,
             "#9c179e"
            ],
            [
             0.4444444444444444,
             "#bd3786"
            ],
            [
             0.5555555555555556,
             "#d8576b"
            ],
            [
             0.6666666666666666,
             "#ed7953"
            ],
            [
             0.7777777777777778,
             "#fb9f3a"
            ],
            [
             0.8888888888888888,
             "#fdca26"
            ],
            [
             1,
             "#f0f921"
            ]
           ],
           "sequentialminus": [
            [
             0,
             "#0d0887"
            ],
            [
             0.1111111111111111,
             "#46039f"
            ],
            [
             0.2222222222222222,
             "#7201a8"
            ],
            [
             0.3333333333333333,
             "#9c179e"
            ],
            [
             0.4444444444444444,
             "#bd3786"
            ],
            [
             0.5555555555555556,
             "#d8576b"
            ],
            [
             0.6666666666666666,
             "#ed7953"
            ],
            [
             0.7777777777777778,
             "#fb9f3a"
            ],
            [
             0.8888888888888888,
             "#fdca26"
            ],
            [
             1,
             "#f0f921"
            ]
           ]
          },
          "colorway": [
           "#636efa",
           "#EF553B",
           "#00cc96",
           "#ab63fa",
           "#FFA15A",
           "#19d3f3",
           "#FF6692",
           "#B6E880",
           "#FF97FF",
           "#FECB52"
          ],
          "font": {
           "color": "#2a3f5f"
          },
          "geo": {
           "bgcolor": "white",
           "lakecolor": "white",
           "landcolor": "#E5ECF6",
           "showlakes": true,
           "showland": true,
           "subunitcolor": "white"
          },
          "hoverlabel": {
           "align": "left"
          },
          "hovermode": "closest",
          "mapbox": {
           "style": "light"
          },
          "paper_bgcolor": "white",
          "plot_bgcolor": "#E5ECF6",
          "polar": {
           "angularaxis": {
            "gridcolor": "white",
            "linecolor": "white",
            "ticks": ""
           },
           "bgcolor": "#E5ECF6",
           "radialaxis": {
            "gridcolor": "white",
            "linecolor": "white",
            "ticks": ""
           }
          },
          "scene": {
           "xaxis": {
            "backgroundcolor": "#E5ECF6",
            "gridcolor": "white",
            "gridwidth": 2,
            "linecolor": "white",
            "showbackground": true,
            "ticks": "",
            "zerolinecolor": "white"
           },
           "yaxis": {
            "backgroundcolor": "#E5ECF6",
            "gridcolor": "white",
            "gridwidth": 2,
            "linecolor": "white",
            "showbackground": true,
            "ticks": "",
            "zerolinecolor": "white"
           },
           "zaxis": {
            "backgroundcolor": "#E5ECF6",
            "gridcolor": "white",
            "gridwidth": 2,
            "linecolor": "white",
            "showbackground": true,
            "ticks": "",
            "zerolinecolor": "white"
           }
          },
          "shapedefaults": {
           "line": {
            "color": "#2a3f5f"
           }
          },
          "ternary": {
           "aaxis": {
            "gridcolor": "white",
            "linecolor": "white",
            "ticks": ""
           },
           "baxis": {
            "gridcolor": "white",
            "linecolor": "white",
            "ticks": ""
           },
           "bgcolor": "#E5ECF6",
           "caxis": {
            "gridcolor": "white",
            "linecolor": "white",
            "ticks": ""
           }
          },
          "title": {
           "x": 0.05
          },
          "xaxis": {
           "automargin": true,
           "gridcolor": "white",
           "linecolor": "white",
           "ticks": "",
           "title": {
            "standoff": 15
           },
           "zerolinecolor": "white",
           "zerolinewidth": 2
          },
          "yaxis": {
           "automargin": true,
           "gridcolor": "white",
           "linecolor": "white",
           "ticks": "",
           "title": {
            "standoff": 15
           },
           "zerolinecolor": "white",
           "zerolinewidth": 2
          }
         }
        },
        "title": {
         "text": "International imports to China",
         "x": 0.5,
         "xanchor": "center",
         "y": 0.9,
         "yanchor": "top"
        }
       }
      }
     },
     "metadata": {},
     "output_type": "display_data"
    }
   ],
   "source": [
    "#creating a pie chart for import\n",
    "\n",
    "pie_import = px.pie(data_import_pie,               # data frame as input\n",
    "             values=\"Trade Value\",     # values to create the pie chart (data frame column name)\n",
    "             names=\"Partner\")          # labels (data frame column name)\n",
    "                  \n",
    "pie_import.update_layout(\n",
    "    title={                                # Add a title, centered on top\n",
    "        'text': \"International imports to China\",\n",
    "        'y':0.9,\n",
    "        'x':0.5,\n",
    "        'xanchor': 'center',\n",
    "        'yanchor': 'top'})  \n",
    "pie_import.show()"
   ]
  },
  {
   "cell_type": "code",
   "execution_count": 55,
   "metadata": {},
   "outputs": [
    {
     "data": {
      "application/vnd.plotly.v1+json": {
       "config": {
        "plotlyServerURL": "https://plot.ly"
       },
       "data": [
        {
         "domain": {
          "x": [
           0,
           1
          ],
          "y": [
           0,
           1
          ]
         },
         "hovertemplate": "Partner=%{label}<br>Trade Value=%{value}<extra></extra>",
         "labels": [
          "USA",
          "Germany",
          "Japan",
          "Viet Nam",
          "Rep. of Korea",
          "China, Hong Kong SAR",
          "Thailand",
          "Italy",
          "Netherlands",
          "Other Asia, nes",
          "Other"
         ],
         "legendgroup": "",
         "name": "",
         "showlegend": true,
         "type": "pie",
         "values": [
          524707386,
          269727978,
          263005260,
          226508189,
          192275313,
          171404432,
          171143330,
          152309287,
          109442705,
          98823527,
          163306187
         ]
        }
       ],
       "layout": {
        "legend": {
         "tracegroupgap": 0
        },
        "margin": {
         "t": 60
        },
        "template": {
         "data": {
          "bar": [
           {
            "error_x": {
             "color": "#2a3f5f"
            },
            "error_y": {
             "color": "#2a3f5f"
            },
            "marker": {
             "line": {
              "color": "#E5ECF6",
              "width": 0.5
             },
             "pattern": {
              "fillmode": "overlay",
              "size": 10,
              "solidity": 0.2
             }
            },
            "type": "bar"
           }
          ],
          "barpolar": [
           {
            "marker": {
             "line": {
              "color": "#E5ECF6",
              "width": 0.5
             },
             "pattern": {
              "fillmode": "overlay",
              "size": 10,
              "solidity": 0.2
             }
            },
            "type": "barpolar"
           }
          ],
          "carpet": [
           {
            "aaxis": {
             "endlinecolor": "#2a3f5f",
             "gridcolor": "white",
             "linecolor": "white",
             "minorgridcolor": "white",
             "startlinecolor": "#2a3f5f"
            },
            "baxis": {
             "endlinecolor": "#2a3f5f",
             "gridcolor": "white",
             "linecolor": "white",
             "minorgridcolor": "white",
             "startlinecolor": "#2a3f5f"
            },
            "type": "carpet"
           }
          ],
          "choropleth": [
           {
            "colorbar": {
             "outlinewidth": 0,
             "ticks": ""
            },
            "type": "choropleth"
           }
          ],
          "contour": [
           {
            "colorbar": {
             "outlinewidth": 0,
             "ticks": ""
            },
            "colorscale": [
             [
              0,
              "#0d0887"
             ],
             [
              0.1111111111111111,
              "#46039f"
             ],
             [
              0.2222222222222222,
              "#7201a8"
             ],
             [
              0.3333333333333333,
              "#9c179e"
             ],
             [
              0.4444444444444444,
              "#bd3786"
             ],
             [
              0.5555555555555556,
              "#d8576b"
             ],
             [
              0.6666666666666666,
              "#ed7953"
             ],
             [
              0.7777777777777778,
              "#fb9f3a"
             ],
             [
              0.8888888888888888,
              "#fdca26"
             ],
             [
              1,
              "#f0f921"
             ]
            ],
            "type": "contour"
           }
          ],
          "contourcarpet": [
           {
            "colorbar": {
             "outlinewidth": 0,
             "ticks": ""
            },
            "type": "contourcarpet"
           }
          ],
          "heatmap": [
           {
            "colorbar": {
             "outlinewidth": 0,
             "ticks": ""
            },
            "colorscale": [
             [
              0,
              "#0d0887"
             ],
             [
              0.1111111111111111,
              "#46039f"
             ],
             [
              0.2222222222222222,
              "#7201a8"
             ],
             [
              0.3333333333333333,
              "#9c179e"
             ],
             [
              0.4444444444444444,
              "#bd3786"
             ],
             [
              0.5555555555555556,
              "#d8576b"
             ],
             [
              0.6666666666666666,
              "#ed7953"
             ],
             [
              0.7777777777777778,
              "#fb9f3a"
             ],
             [
              0.8888888888888888,
              "#fdca26"
             ],
             [
              1,
              "#f0f921"
             ]
            ],
            "type": "heatmap"
           }
          ],
          "heatmapgl": [
           {
            "colorbar": {
             "outlinewidth": 0,
             "ticks": ""
            },
            "colorscale": [
             [
              0,
              "#0d0887"
             ],
             [
              0.1111111111111111,
              "#46039f"
             ],
             [
              0.2222222222222222,
              "#7201a8"
             ],
             [
              0.3333333333333333,
              "#9c179e"
             ],
             [
              0.4444444444444444,
              "#bd3786"
             ],
             [
              0.5555555555555556,
              "#d8576b"
             ],
             [
              0.6666666666666666,
              "#ed7953"
             ],
             [
              0.7777777777777778,
              "#fb9f3a"
             ],
             [
              0.8888888888888888,
              "#fdca26"
             ],
             [
              1,
              "#f0f921"
             ]
            ],
            "type": "heatmapgl"
           }
          ],
          "histogram": [
           {
            "marker": {
             "pattern": {
              "fillmode": "overlay",
              "size": 10,
              "solidity": 0.2
             }
            },
            "type": "histogram"
           }
          ],
          "histogram2d": [
           {
            "colorbar": {
             "outlinewidth": 0,
             "ticks": ""
            },
            "colorscale": [
             [
              0,
              "#0d0887"
             ],
             [
              0.1111111111111111,
              "#46039f"
             ],
             [
              0.2222222222222222,
              "#7201a8"
             ],
             [
              0.3333333333333333,
              "#9c179e"
             ],
             [
              0.4444444444444444,
              "#bd3786"
             ],
             [
              0.5555555555555556,
              "#d8576b"
             ],
             [
              0.6666666666666666,
              "#ed7953"
             ],
             [
              0.7777777777777778,
              "#fb9f3a"
             ],
             [
              0.8888888888888888,
              "#fdca26"
             ],
             [
              1,
              "#f0f921"
             ]
            ],
            "type": "histogram2d"
           }
          ],
          "histogram2dcontour": [
           {
            "colorbar": {
             "outlinewidth": 0,
             "ticks": ""
            },
            "colorscale": [
             [
              0,
              "#0d0887"
             ],
             [
              0.1111111111111111,
              "#46039f"
             ],
             [
              0.2222222222222222,
              "#7201a8"
             ],
             [
              0.3333333333333333,
              "#9c179e"
             ],
             [
              0.4444444444444444,
              "#bd3786"
             ],
             [
              0.5555555555555556,
              "#d8576b"
             ],
             [
              0.6666666666666666,
              "#ed7953"
             ],
             [
              0.7777777777777778,
              "#fb9f3a"
             ],
             [
              0.8888888888888888,
              "#fdca26"
             ],
             [
              1,
              "#f0f921"
             ]
            ],
            "type": "histogram2dcontour"
           }
          ],
          "mesh3d": [
           {
            "colorbar": {
             "outlinewidth": 0,
             "ticks": ""
            },
            "type": "mesh3d"
           }
          ],
          "parcoords": [
           {
            "line": {
             "colorbar": {
              "outlinewidth": 0,
              "ticks": ""
             }
            },
            "type": "parcoords"
           }
          ],
          "pie": [
           {
            "automargin": true,
            "type": "pie"
           }
          ],
          "scatter": [
           {
            "fillpattern": {
             "fillmode": "overlay",
             "size": 10,
             "solidity": 0.2
            },
            "type": "scatter"
           }
          ],
          "scatter3d": [
           {
            "line": {
             "colorbar": {
              "outlinewidth": 0,
              "ticks": ""
             }
            },
            "marker": {
             "colorbar": {
              "outlinewidth": 0,
              "ticks": ""
             }
            },
            "type": "scatter3d"
           }
          ],
          "scattercarpet": [
           {
            "marker": {
             "colorbar": {
              "outlinewidth": 0,
              "ticks": ""
             }
            },
            "type": "scattercarpet"
           }
          ],
          "scattergeo": [
           {
            "marker": {
             "colorbar": {
              "outlinewidth": 0,
              "ticks": ""
             }
            },
            "type": "scattergeo"
           }
          ],
          "scattergl": [
           {
            "marker": {
             "colorbar": {
              "outlinewidth": 0,
              "ticks": ""
             }
            },
            "type": "scattergl"
           }
          ],
          "scattermapbox": [
           {
            "marker": {
             "colorbar": {
              "outlinewidth": 0,
              "ticks": ""
             }
            },
            "type": "scattermapbox"
           }
          ],
          "scatterpolar": [
           {
            "marker": {
             "colorbar": {
              "outlinewidth": 0,
              "ticks": ""
             }
            },
            "type": "scatterpolar"
           }
          ],
          "scatterpolargl": [
           {
            "marker": {
             "colorbar": {
              "outlinewidth": 0,
              "ticks": ""
             }
            },
            "type": "scatterpolargl"
           }
          ],
          "scatterternary": [
           {
            "marker": {
             "colorbar": {
              "outlinewidth": 0,
              "ticks": ""
             }
            },
            "type": "scatterternary"
           }
          ],
          "surface": [
           {
            "colorbar": {
             "outlinewidth": 0,
             "ticks": ""
            },
            "colorscale": [
             [
              0,
              "#0d0887"
             ],
             [
              0.1111111111111111,
              "#46039f"
             ],
             [
              0.2222222222222222,
              "#7201a8"
             ],
             [
              0.3333333333333333,
              "#9c179e"
             ],
             [
              0.4444444444444444,
              "#bd3786"
             ],
             [
              0.5555555555555556,
              "#d8576b"
             ],
             [
              0.6666666666666666,
              "#ed7953"
             ],
             [
              0.7777777777777778,
              "#fb9f3a"
             ],
             [
              0.8888888888888888,
              "#fdca26"
             ],
             [
              1,
              "#f0f921"
             ]
            ],
            "type": "surface"
           }
          ],
          "table": [
           {
            "cells": {
             "fill": {
              "color": "#EBF0F8"
             },
             "line": {
              "color": "white"
             }
            },
            "header": {
             "fill": {
              "color": "#C8D4E3"
             },
             "line": {
              "color": "white"
             }
            },
            "type": "table"
           }
          ]
         },
         "layout": {
          "annotationdefaults": {
           "arrowcolor": "#2a3f5f",
           "arrowhead": 0,
           "arrowwidth": 1
          },
          "autotypenumbers": "strict",
          "coloraxis": {
           "colorbar": {
            "outlinewidth": 0,
            "ticks": ""
           }
          },
          "colorscale": {
           "diverging": [
            [
             0,
             "#8e0152"
            ],
            [
             0.1,
             "#c51b7d"
            ],
            [
             0.2,
             "#de77ae"
            ],
            [
             0.3,
             "#f1b6da"
            ],
            [
             0.4,
             "#fde0ef"
            ],
            [
             0.5,
             "#f7f7f7"
            ],
            [
             0.6,
             "#e6f5d0"
            ],
            [
             0.7,
             "#b8e186"
            ],
            [
             0.8,
             "#7fbc41"
            ],
            [
             0.9,
             "#4d9221"
            ],
            [
             1,
             "#276419"
            ]
           ],
           "sequential": [
            [
             0,
             "#0d0887"
            ],
            [
             0.1111111111111111,
             "#46039f"
            ],
            [
             0.2222222222222222,
             "#7201a8"
            ],
            [
             0.3333333333333333,
             "#9c179e"
            ],
            [
             0.4444444444444444,
             "#bd3786"
            ],
            [
             0.5555555555555556,
             "#d8576b"
            ],
            [
             0.6666666666666666,
             "#ed7953"
            ],
            [
             0.7777777777777778,
             "#fb9f3a"
            ],
            [
             0.8888888888888888,
             "#fdca26"
            ],
            [
             1,
             "#f0f921"
            ]
           ],
           "sequentialminus": [
            [
             0,
             "#0d0887"
            ],
            [
             0.1111111111111111,
             "#46039f"
            ],
            [
             0.2222222222222222,
             "#7201a8"
            ],
            [
             0.3333333333333333,
             "#9c179e"
            ],
            [
             0.4444444444444444,
             "#bd3786"
            ],
            [
             0.5555555555555556,
             "#d8576b"
            ],
            [
             0.6666666666666666,
             "#ed7953"
            ],
            [
             0.7777777777777778,
             "#fb9f3a"
            ],
            [
             0.8888888888888888,
             "#fdca26"
            ],
            [
             1,
             "#f0f921"
            ]
           ]
          },
          "colorway": [
           "#636efa",
           "#EF553B",
           "#00cc96",
           "#ab63fa",
           "#FFA15A",
           "#19d3f3",
           "#FF6692",
           "#B6E880",
           "#FF97FF",
           "#FECB52"
          ],
          "font": {
           "color": "#2a3f5f"
          },
          "geo": {
           "bgcolor": "white",
           "lakecolor": "white",
           "landcolor": "#E5ECF6",
           "showlakes": true,
           "showland": true,
           "subunitcolor": "white"
          },
          "hoverlabel": {
           "align": "left"
          },
          "hovermode": "closest",
          "mapbox": {
           "style": "light"
          },
          "paper_bgcolor": "white",
          "plot_bgcolor": "#E5ECF6",
          "polar": {
           "angularaxis": {
            "gridcolor": "white",
            "linecolor": "white",
            "ticks": ""
           },
           "bgcolor": "#E5ECF6",
           "radialaxis": {
            "gridcolor": "white",
            "linecolor": "white",
            "ticks": ""
           }
          },
          "scene": {
           "xaxis": {
            "backgroundcolor": "#E5ECF6",
            "gridcolor": "white",
            "gridwidth": 2,
            "linecolor": "white",
            "showbackground": true,
            "ticks": "",
            "zerolinecolor": "white"
           },
           "yaxis": {
            "backgroundcolor": "#E5ECF6",
            "gridcolor": "white",
            "gridwidth": 2,
            "linecolor": "white",
            "showbackground": true,
            "ticks": "",
            "zerolinecolor": "white"
           },
           "zaxis": {
            "backgroundcolor": "#E5ECF6",
            "gridcolor": "white",
            "gridwidth": 2,
            "linecolor": "white",
            "showbackground": true,
            "ticks": "",
            "zerolinecolor": "white"
           }
          },
          "shapedefaults": {
           "line": {
            "color": "#2a3f5f"
           }
          },
          "ternary": {
           "aaxis": {
            "gridcolor": "white",
            "linecolor": "white",
            "ticks": ""
           },
           "baxis": {
            "gridcolor": "white",
            "linecolor": "white",
            "ticks": ""
           },
           "bgcolor": "#E5ECF6",
           "caxis": {
            "gridcolor": "white",
            "linecolor": "white",
            "ticks": ""
           }
          },
          "title": {
           "x": 0.05
          },
          "xaxis": {
           "automargin": true,
           "gridcolor": "white",
           "linecolor": "white",
           "ticks": "",
           "title": {
            "standoff": 15
           },
           "zerolinecolor": "white",
           "zerolinewidth": 2
          },
          "yaxis": {
           "automargin": true,
           "gridcolor": "white",
           "linecolor": "white",
           "ticks": "",
           "title": {
            "standoff": 15
           },
           "zerolinecolor": "white",
           "zerolinewidth": 2
          }
         }
        },
        "title": {
         "text": "International exports from China",
         "x": 0.4,
         "xanchor": "center",
         "y": 0.9,
         "yanchor": "top"
        }
       }
      }
     },
     "metadata": {},
     "output_type": "display_data"
    }
   ],
   "source": [
    "#creating a pie chart for export\n",
    "\n",
    "pie_export = px.pie(data_export_pie,               # data frame as input\n",
    "             values=\"Trade Value\",     # values to create the pie chart (data frame column name)\n",
    "             names=\"Partner\")          # labels (data frame column name)\n",
    "                  \n",
    "pie_export.update_layout(\n",
    "    title={                             \n",
    "        'text': \"International exports from China\",\n",
    "        'y':0.9,\n",
    "        'x':0.4,\n",
    "        'xanchor': 'center',\n",
    "        'yanchor': 'top'})  \n",
    "pie_export.show()"
   ]
  },
  {
   "cell_type": "code",
   "execution_count": null,
   "metadata": {},
   "outputs": [],
   "source": []
  }
 ],
 "metadata": {
  "kernelspec": {
   "display_name": "Python 3.9.13 ('base')",
   "language": "python",
   "name": "python3"
  },
  "language_info": {
   "codemirror_mode": {
    "name": "ipython",
    "version": 3
   },
   "file_extension": ".py",
   "mimetype": "text/x-python",
   "name": "python",
   "nbconvert_exporter": "python",
   "pygments_lexer": "ipython3",
   "version": "3.9.13"
  },
  "orig_nbformat": 4,
  "vscode": {
   "interpreter": {
    "hash": "3f99bcdbb3217576de7d4913388132c7a29c76b283dfc7cc14da5cb2abf39e8c"
   }
  }
 },
 "nbformat": 4,
 "nbformat_minor": 2
}
